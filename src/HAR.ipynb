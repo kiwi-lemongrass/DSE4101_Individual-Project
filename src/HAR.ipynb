{
 "cells": [
  {
   "cell_type": "markdown",
   "metadata": {},
   "source": [
    "# Heterogeneous Autoregressive model"
   ]
  },
  {
   "cell_type": "markdown",
   "metadata": {},
   "source": [
    "The HAR model assumes that the volatility (or other financial variables) is driven by components at different time scales (long-term, medium-term, and short-term)."
   ]
  },
  {
   "cell_type": "markdown",
   "metadata": {},
   "source": [
    "## Load Data"
   ]
  },
  {
   "cell_type": "code",
   "execution_count": 1,
   "metadata": {},
   "outputs": [],
   "source": [
    "import pandas as pd\n",
    "import matplotlib.pyplot as plt\n",
    "import statsmodels.api as sm"
   ]
  },
  {
   "cell_type": "code",
   "execution_count": 2,
   "metadata": {},
   "outputs": [
    {
     "data": {
      "text/html": [
       "<div>\n",
       "<style scoped>\n",
       "    .dataframe tbody tr th:only-of-type {\n",
       "        vertical-align: middle;\n",
       "    }\n",
       "\n",
       "    .dataframe tbody tr th {\n",
       "        vertical-align: top;\n",
       "    }\n",
       "\n",
       "    .dataframe thead th {\n",
       "        text-align: right;\n",
       "    }\n",
       "</style>\n",
       "<table border=\"1\" class=\"dataframe\">\n",
       "  <thead>\n",
       "    <tr style=\"text-align: right;\">\n",
       "      <th></th>\n",
       "      <th>open</th>\n",
       "      <th>high</th>\n",
       "      <th>low</th>\n",
       "      <th>close</th>\n",
       "      <th>return</th>\n",
       "      <th>return2</th>\n",
       "      <th>RV</th>\n",
       "      <th>lnRV</th>\n",
       "      <th>lnRV_1D_ahead</th>\n",
       "      <th>lnRV_3D_ahead</th>\n",
       "      <th>lnRV_7D_ahead</th>\n",
       "      <th>lnRV_21D_ahead</th>\n",
       "    </tr>\n",
       "    <tr>\n",
       "      <th>Date</th>\n",
       "      <th></th>\n",
       "      <th></th>\n",
       "      <th></th>\n",
       "      <th></th>\n",
       "      <th></th>\n",
       "      <th></th>\n",
       "      <th></th>\n",
       "      <th></th>\n",
       "      <th></th>\n",
       "      <th></th>\n",
       "      <th></th>\n",
       "      <th></th>\n",
       "    </tr>\n",
       "  </thead>\n",
       "  <tbody>\n",
       "    <tr>\n",
       "      <th>2019-06-23</th>\n",
       "      <td>2.190</td>\n",
       "      <td>2.234</td>\n",
       "      <td>1.800</td>\n",
       "      <td>1.934</td>\n",
       "      <td>-0.125224</td>\n",
       "      <td>0.015681</td>\n",
       "      <td>0.020962</td>\n",
       "      <td>-3.865058</td>\n",
       "      <td>-3.652501</td>\n",
       "      <td>-3.331801</td>\n",
       "      <td>-4.888673</td>\n",
       "      <td>-4.274772</td>\n",
       "    </tr>\n",
       "    <tr>\n",
       "      <th>2019-06-24</th>\n",
       "      <td>1.932</td>\n",
       "      <td>2.020</td>\n",
       "      <td>1.301</td>\n",
       "      <td>1.416</td>\n",
       "      <td>-0.311754</td>\n",
       "      <td>0.097191</td>\n",
       "      <td>0.025926</td>\n",
       "      <td>-3.652501</td>\n",
       "      <td>-3.161881</td>\n",
       "      <td>-3.956779</td>\n",
       "      <td>-4.830684</td>\n",
       "      <td>-4.517003</td>\n",
       "    </tr>\n",
       "  </tbody>\n",
       "</table>\n",
       "</div>"
      ],
      "text/plain": [
       "             open   high    low  close    return   return2        RV  \\\n",
       "Date                                                                   \n",
       "2019-06-23  2.190  2.234  1.800  1.934 -0.125224  0.015681  0.020962   \n",
       "2019-06-24  1.932  2.020  1.301  1.416 -0.311754  0.097191  0.025926   \n",
       "\n",
       "                lnRV  lnRV_1D_ahead  lnRV_3D_ahead  lnRV_7D_ahead  \\\n",
       "Date                                                                \n",
       "2019-06-23 -3.865058      -3.652501      -3.331801      -4.888673   \n",
       "2019-06-24 -3.652501      -3.161881      -3.956779      -4.830684   \n",
       "\n",
       "            lnRV_21D_ahead  \n",
       "Date                        \n",
       "2019-06-23       -4.274772  \n",
       "2019-06-24       -4.517003  "
      ]
     },
     "execution_count": 2,
     "metadata": {},
     "output_type": "execute_result"
    }
   ],
   "source": [
    "file_path = \"..\\data\\ALGO_daily.csv\"\n",
    "df = pd.read_csv(file_path)\n",
    "df.rename(columns={'timestamp': 'Date'}, inplace=True)\n",
    "df.set_index('Date', inplace=True)\n",
    "df.head(2)"
   ]
  },
  {
   "cell_type": "markdown",
   "metadata": {},
   "source": [
    "### Create Lagged lnRV"
   ]
  },
  {
   "cell_type": "code",
   "execution_count": null,
   "metadata": {},
   "outputs": [],
   "source": [
    "df['lnRV_5D_lag'] = df['lnRV'].rolling(window=5).mean()\n",
    "df['lnRV_7D_lag'] = df['lnRV'].rolling(window=7).mean()\n",
    "df['lnRV_22D_lag'] = df['lnRV'].rolling(window=22).mean()\n",
    "df['lnRV_30D_lag'] = df['lnRV'].rolling(window=30).mean()\n",
    "df['lnRV_60D_lag'] = df['lnRV'].rolling(window=60).mean()\n",
    "df.dropna(inplace=True)"
   ]
  },
  {
   "cell_type": "markdown",
   "metadata": {},
   "source": [
    "## Train Test Split"
   ]
  },
  {
   "cell_type": "code",
   "execution_count": 4,
   "metadata": {},
   "outputs": [
    {
     "name": "stdout",
     "output_type": "stream",
     "text": [
      "Training Set: (1598, 17) (400, 17)\n",
      "test period starts: 2024-01-05\n"
     ]
    }
   ],
   "source": [
    "# Train-Test Split (80% train, 20% test)\n",
    "train_size = int(0.8 * len(df))\n",
    "test_size = len(df) - train_size\n",
    "df_train, df_test = df.iloc[:train_size], df.iloc[train_size:]\n",
    "\n",
    "print(\"Training Set:\", df_train.shape, df_test.shape)\n",
    "print(\"test period starts:\", df_test.index[0])"
   ]
  },
  {
   "cell_type": "code",
   "execution_count": 5,
   "metadata": {},
   "outputs": [],
   "source": [
    "date_ticks = ['2024-01-10', '2024-04-01', '2024-07-01', '2024-10-01', '2025-01-01']"
   ]
  },
  {
   "cell_type": "markdown",
   "metadata": {},
   "source": [
    "## 1-day ahead forecasting"
   ]
  },
  {
   "cell_type": "markdown",
   "metadata": {},
   "source": [
    "### HAR(1,5,22)"
   ]
  },
  {
   "cell_type": "markdown",
   "metadata": {},
   "source": [
    "$$\n",
    "lnRV_t = \\alpha + \\beta_1 lnRV_{t-1} + \\beta_2 lnRV_{5D, t-1} + \\beta_3 lnRV_{22D, t-1} + \\epsilon_t\n",
    "$$\n",
    "Where:\n",
    "- $lnRV_t$ is the dependent variable (e.g., log realised volatility of return) at time \\( t \\).\n",
    "- $\\alpha$ is a constant term.\n",
    "- $\\beta_1, \\beta_2, \\beta_3$ are the coefficients for different time lags.\n",
    "- $lnRV_{5D, t-1}$ and $lnRV_{22D, t-1}$ are the 1-day lag of the average log realised volatility of return over the past 5 days and 22 days respectively.\n",
    "- $\\epsilon_t$ is the error term."
   ]
  },
  {
   "cell_type": "code",
   "execution_count": 6,
   "metadata": {},
   "outputs": [
    {
     "ename": "KeyError",
     "evalue": "\"None of [Index(['lnRV_lag1', 'lnRV_5D_lag1', 'lnRV_22D_lag1'], dtype='object')] are in the [columns]\"",
     "output_type": "error",
     "traceback": [
      "\u001b[1;31m---------------------------------------------------------------------------\u001b[0m",
      "\u001b[1;31mKeyError\u001b[0m                                  Traceback (most recent call last)",
      "Cell \u001b[1;32mIn[6], line 3\u001b[0m\n\u001b[0;32m      1\u001b[0m \u001b[38;5;66;03m# Define dependent (y) and independent variables (X)\u001b[39;00m\n\u001b[0;32m      2\u001b[0m y_train \u001b[38;5;241m=\u001b[39m df_train[\u001b[38;5;124m'\u001b[39m\u001b[38;5;124mlnRV\u001b[39m\u001b[38;5;124m'\u001b[39m]\n\u001b[1;32m----> 3\u001b[0m X_train \u001b[38;5;241m=\u001b[39m \u001b[43mdf_train\u001b[49m\u001b[43m[\u001b[49m\u001b[43m[\u001b[49m\u001b[38;5;124;43m'\u001b[39;49m\u001b[38;5;124;43mlnRV_lag1\u001b[39;49m\u001b[38;5;124;43m'\u001b[39;49m\u001b[43m,\u001b[49m\u001b[43m \u001b[49m\u001b[38;5;124;43m'\u001b[39;49m\u001b[38;5;124;43mlnRV_5D_lag1\u001b[39;49m\u001b[38;5;124;43m'\u001b[39;49m\u001b[43m,\u001b[49m\u001b[43m \u001b[49m\u001b[38;5;124;43m'\u001b[39;49m\u001b[38;5;124;43mlnRV_22D_lag1\u001b[39;49m\u001b[38;5;124;43m'\u001b[39;49m\u001b[43m]\u001b[49m\u001b[43m]\u001b[49m\n\u001b[0;32m      4\u001b[0m y_test \u001b[38;5;241m=\u001b[39m df_test[\u001b[38;5;124m'\u001b[39m\u001b[38;5;124mlnRV\u001b[39m\u001b[38;5;124m'\u001b[39m]\n\u001b[0;32m      5\u001b[0m X_test \u001b[38;5;241m=\u001b[39m df_test[[\u001b[38;5;124m'\u001b[39m\u001b[38;5;124mlnRV_lag1\u001b[39m\u001b[38;5;124m'\u001b[39m, \u001b[38;5;124m'\u001b[39m\u001b[38;5;124mlnRV_5D_lag1\u001b[39m\u001b[38;5;124m'\u001b[39m, \u001b[38;5;124m'\u001b[39m\u001b[38;5;124mlnRV_22D_lag1\u001b[39m\u001b[38;5;124m'\u001b[39m]]\n",
      "File \u001b[1;32mc:\\Users\\65835\\AppData\\Local\\Programs\\Python\\Python39\\lib\\site-packages\\pandas\\core\\frame.py:4096\u001b[0m, in \u001b[0;36mDataFrame.__getitem__\u001b[1;34m(self, key)\u001b[0m\n\u001b[0;32m   4094\u001b[0m     \u001b[38;5;28;01mif\u001b[39;00m is_iterator(key):\n\u001b[0;32m   4095\u001b[0m         key \u001b[38;5;241m=\u001b[39m \u001b[38;5;28mlist\u001b[39m(key)\n\u001b[1;32m-> 4096\u001b[0m     indexer \u001b[38;5;241m=\u001b[39m \u001b[38;5;28;43mself\u001b[39;49m\u001b[38;5;241;43m.\u001b[39;49m\u001b[43mcolumns\u001b[49m\u001b[38;5;241;43m.\u001b[39;49m\u001b[43m_get_indexer_strict\u001b[49m\u001b[43m(\u001b[49m\u001b[43mkey\u001b[49m\u001b[43m,\u001b[49m\u001b[43m \u001b[49m\u001b[38;5;124;43m\"\u001b[39;49m\u001b[38;5;124;43mcolumns\u001b[39;49m\u001b[38;5;124;43m\"\u001b[39;49m\u001b[43m)\u001b[49m[\u001b[38;5;241m1\u001b[39m]\n\u001b[0;32m   4098\u001b[0m \u001b[38;5;66;03m# take() does not accept boolean indexers\u001b[39;00m\n\u001b[0;32m   4099\u001b[0m \u001b[38;5;28;01mif\u001b[39;00m \u001b[38;5;28mgetattr\u001b[39m(indexer, \u001b[38;5;124m\"\u001b[39m\u001b[38;5;124mdtype\u001b[39m\u001b[38;5;124m\"\u001b[39m, \u001b[38;5;28;01mNone\u001b[39;00m) \u001b[38;5;241m==\u001b[39m \u001b[38;5;28mbool\u001b[39m:\n",
      "File \u001b[1;32mc:\\Users\\65835\\AppData\\Local\\Programs\\Python\\Python39\\lib\\site-packages\\pandas\\core\\indexes\\base.py:6199\u001b[0m, in \u001b[0;36mIndex._get_indexer_strict\u001b[1;34m(self, key, axis_name)\u001b[0m\n\u001b[0;32m   6196\u001b[0m \u001b[38;5;28;01melse\u001b[39;00m:\n\u001b[0;32m   6197\u001b[0m     keyarr, indexer, new_indexer \u001b[38;5;241m=\u001b[39m \u001b[38;5;28mself\u001b[39m\u001b[38;5;241m.\u001b[39m_reindex_non_unique(keyarr)\n\u001b[1;32m-> 6199\u001b[0m \u001b[38;5;28;43mself\u001b[39;49m\u001b[38;5;241;43m.\u001b[39;49m\u001b[43m_raise_if_missing\u001b[49m\u001b[43m(\u001b[49m\u001b[43mkeyarr\u001b[49m\u001b[43m,\u001b[49m\u001b[43m \u001b[49m\u001b[43mindexer\u001b[49m\u001b[43m,\u001b[49m\u001b[43m \u001b[49m\u001b[43maxis_name\u001b[49m\u001b[43m)\u001b[49m\n\u001b[0;32m   6201\u001b[0m keyarr \u001b[38;5;241m=\u001b[39m \u001b[38;5;28mself\u001b[39m\u001b[38;5;241m.\u001b[39mtake(indexer)\n\u001b[0;32m   6202\u001b[0m \u001b[38;5;28;01mif\u001b[39;00m \u001b[38;5;28misinstance\u001b[39m(key, Index):\n\u001b[0;32m   6203\u001b[0m     \u001b[38;5;66;03m# GH 42790 - Preserve name from an Index\u001b[39;00m\n",
      "File \u001b[1;32mc:\\Users\\65835\\AppData\\Local\\Programs\\Python\\Python39\\lib\\site-packages\\pandas\\core\\indexes\\base.py:6248\u001b[0m, in \u001b[0;36mIndex._raise_if_missing\u001b[1;34m(self, key, indexer, axis_name)\u001b[0m\n\u001b[0;32m   6246\u001b[0m \u001b[38;5;28;01mif\u001b[39;00m nmissing:\n\u001b[0;32m   6247\u001b[0m     \u001b[38;5;28;01mif\u001b[39;00m nmissing \u001b[38;5;241m==\u001b[39m \u001b[38;5;28mlen\u001b[39m(indexer):\n\u001b[1;32m-> 6248\u001b[0m         \u001b[38;5;28;01mraise\u001b[39;00m \u001b[38;5;167;01mKeyError\u001b[39;00m(\u001b[38;5;124mf\u001b[39m\u001b[38;5;124m\"\u001b[39m\u001b[38;5;124mNone of [\u001b[39m\u001b[38;5;132;01m{\u001b[39;00mkey\u001b[38;5;132;01m}\u001b[39;00m\u001b[38;5;124m] are in the [\u001b[39m\u001b[38;5;132;01m{\u001b[39;00maxis_name\u001b[38;5;132;01m}\u001b[39;00m\u001b[38;5;124m]\u001b[39m\u001b[38;5;124m\"\u001b[39m)\n\u001b[0;32m   6250\u001b[0m     not_found \u001b[38;5;241m=\u001b[39m \u001b[38;5;28mlist\u001b[39m(ensure_index(key)[missing_mask\u001b[38;5;241m.\u001b[39mnonzero()[\u001b[38;5;241m0\u001b[39m]]\u001b[38;5;241m.\u001b[39munique())\n\u001b[0;32m   6251\u001b[0m     \u001b[38;5;28;01mraise\u001b[39;00m \u001b[38;5;167;01mKeyError\u001b[39;00m(\u001b[38;5;124mf\u001b[39m\u001b[38;5;124m\"\u001b[39m\u001b[38;5;132;01m{\u001b[39;00mnot_found\u001b[38;5;132;01m}\u001b[39;00m\u001b[38;5;124m not in index\u001b[39m\u001b[38;5;124m\"\u001b[39m)\n",
      "\u001b[1;31mKeyError\u001b[0m: \"None of [Index(['lnRV_lag1', 'lnRV_5D_lag1', 'lnRV_22D_lag1'], dtype='object')] are in the [columns]\""
     ]
    }
   ],
   "source": [
    "# Define dependent (y) and independent variables (X)\n",
    "y_train = df_train['lnRV']\n",
    "X_train = df_train[['lnRV_lag1', 'lnRV_5D_lag1', 'lnRV_22D_lag1']]\n",
    "y_test = df_test['lnRV']\n",
    "X_test = df_test[['lnRV_lag1', 'lnRV_5D_lag1', 'lnRV_22D_lag1']]"
   ]
  },
  {
   "cell_type": "code",
   "execution_count": null,
   "metadata": {},
   "outputs": [],
   "source": [
    "# Add a constant to the independent value\n",
    "X_train = sm.add_constant(X_train)\n",
    "\n",
    "# Fit the OLS regression\n",
    "model = sm.OLS(y_train, X_train).fit()\n",
    "\n",
    "# Print summary of results\n",
    "print(model.summary())"
   ]
  },
  {
   "cell_type": "code",
   "execution_count": null,
   "metadata": {},
   "outputs": [],
   "source": [
    "# Predict y values\n",
    "X_test = sm.add_constant(X_test)\n",
    "y_pred = model.predict(X_test)\n",
    "\n",
    "# Save the predicted values\n",
    "y_pred.to_csv('../res/1D/HAR(1,5,22).csv', index=False)"
   ]
  },
  {
   "cell_type": "code",
   "execution_count": null,
   "metadata": {},
   "outputs": [],
   "source": [
    "# Plot the predicted values against the actual values\n",
    "plt.figure(figsize=(10, 5))\n",
    "plt.plot(y_test, label='Actual')\n",
    "plt.plot(y_pred, label='Predicted')\n",
    "plt.title(\"HAR(1,5,22) Actual vs Predicted\")\n",
    "plt.xlabel(\"Date\")\n",
    "plt.xticks(ticks=date_ticks)\n",
    "plt.legend()\n",
    "\n",
    "# Save the plot\n",
    "plt.savefig('../res/1D/HAR(1,5,22)_Actual_vs_Predicted.png')"
   ]
  },
  {
   "cell_type": "markdown",
   "metadata": {},
   "source": [
    "### HAR(1,7,22)"
   ]
  },
  {
   "cell_type": "markdown",
   "metadata": {},
   "source": [
    "$$\n",
    "lnRV_t = \\alpha + \\beta_1 lnRV_{t-1} + \\beta_2 lnRV_{7D, t-1} + \\beta_3 lnRV_{30D, t-1} + \\epsilon_t\n",
    "$$\n",
    "Where:\n",
    "- $lnRV_t$ is the dependent variable (e.g., log realised volatility of return) at time \\( t \\).\n",
    "- $\\alpha$ is a constant term.\n",
    "- $\\beta_1, \\beta_2, \\beta_3$ are the coefficients for different time lags.\n",
    "- $lnRV_{7D, t-1}$ and $lnRV_{30D, t-1}$ are the 1-day lag of the average log realised volatility of return over the past 7 days and 30 days respectively.\n",
    "- $\\epsilon_t$ is the error term."
   ]
  },
  {
   "cell_type": "code",
   "execution_count": null,
   "metadata": {},
   "outputs": [],
   "source": [
    "# Define dependent (y) and independent variables (X)\n",
    "y_train = df_train['lnRV']\n",
    "X_train = df_train[['lnRV_lag1', 'lnRV_7D_lag1', 'lnRV_30D_lag1']]\n",
    "y_test = df_test['lnRV']\n",
    "X_test = df_test[['lnRV_lag1', 'lnRV_7D_lag1', 'lnRV_30D_lag1']]\n",
    "\n",
    "# Add a constant to the independent value\n",
    "X_train = sm.add_constant(X_train)\n",
    "\n",
    "# Fit the OLS regression\n",
    "model = sm.OLS(y_train, X_train).fit()\n",
    "\n",
    "# Print summary of results\n",
    "print(model.summary())"
   ]
  },
  {
   "cell_type": "code",
   "execution_count": null,
   "metadata": {},
   "outputs": [],
   "source": [
    "# Predict y values\n",
    "X_test = sm.add_constant(X_test)\n",
    "y_pred = model.predict(X_test)\n",
    "\n",
    "# Save the predicted values\n",
    "y_pred.to_csv('../res/1D/HAR(1,7,30).csv', index=False)"
   ]
  },
  {
   "cell_type": "code",
   "execution_count": null,
   "metadata": {},
   "outputs": [],
   "source": [
    "# Plot the predicted values against the actual values\n",
    "plt.figure(figsize=(10, 5))\n",
    "plt.plot(y_test, label='Actual')\n",
    "plt.plot(y_pred, label='Predicted')\n",
    "plt.title(\"HAR(1,7,30) Actual vs Predicted\")\n",
    "plt.xlabel(\"Date\")\n",
    "plt.xticks(ticks=date_ticks)\n",
    "plt.legend()\n",
    "\n",
    "# Save the plot\n",
    "plt.savefig('../res/1D/HAR(1,7,30)_Actual_vs_Predicted.png')"
   ]
  },
  {
   "cell_type": "markdown",
   "metadata": {},
   "source": [
    "## 3-day ahead forecasting"
   ]
  },
  {
   "cell_type": "markdown",
   "metadata": {},
   "source": [
    "### HAR(1,5,22)"
   ]
  },
  {
   "cell_type": "code",
   "execution_count": null,
   "metadata": {},
   "outputs": [],
   "source": [
    "# Define dependent (y) and independent variables (X)\n",
    "y_train = df_train['lnRV']\n",
    "X_train = df_train[['lnRV_lag3', 'lnRV_5D_lag3', 'lnRV_22D_lag3']]\n",
    "X_test = df_test[['lnRV_lag3', 'lnRV_5D_lag3', 'lnRV_22D_lag3']]\n",
    "\n",
    "# Add a constant to the independent value\n",
    "X_train = sm.add_constant(X_train)\n",
    "\n",
    "# Fit the OLS regression\n",
    "model = sm.OLS(y_train, X_train).fit()\n",
    "\n",
    "# Print summary of results\n",
    "print(model.summary())"
   ]
  },
  {
   "cell_type": "code",
   "execution_count": null,
   "metadata": {},
   "outputs": [],
   "source": [
    "# Predict y values\n",
    "X_test = sm.add_constant(X_test)\n",
    "y_pred = model.predict(X_test)\n",
    "\n",
    "# Save the predicted values\n",
    "y_pred.to_csv('../res/3D/HAR(1,5,22).csv', index=False)\n",
    "\n",
    "# Plot the predicted values against the actual values\n",
    "plt.figure(figsize=(10, 5))\n",
    "plt.plot(y_test, label='Actual')\n",
    "plt.plot(y_pred, label='Predicted')\n",
    "plt.title(\"HAR(1,5,22) Actual vs Predicted\")\n",
    "plt.xlabel(\"Date\")\n",
    "plt.xticks(ticks=date_ticks)\n",
    "plt.legend()\n",
    "\n",
    "# Save the plot\n",
    "plt.savefig('../res/3D/HAR(1,5,22)_3D_Actual_vs_Predicted.png')"
   ]
  },
  {
   "cell_type": "markdown",
   "metadata": {},
   "source": [
    "### HAR(1,7,22)"
   ]
  },
  {
   "cell_type": "code",
   "execution_count": null,
   "metadata": {},
   "outputs": [],
   "source": [
    "# Define dependent (y) and independent variables (X)\n",
    "y_train = df_train['lnRV']\n",
    "X_train = df_train[['lnRV_lag3', 'lnRV_7D_lag3', 'lnRV_30D_lag3']]\n",
    "X_test = df_test[['lnRV_lag3', 'lnRV_7D_lag3', 'lnRV_30D_lag3']]\n",
    "\n",
    "# Add a constant to the independent value\n",
    "X_train = sm.add_constant(X_train)\n",
    "\n",
    "# Fit the OLS regression\n",
    "model = sm.OLS(y_train, X_train).fit()\n",
    "\n",
    "# Print summary of results\n",
    "print(model.summary())"
   ]
  },
  {
   "cell_type": "code",
   "execution_count": null,
   "metadata": {},
   "outputs": [],
   "source": [
    "# Predict y values\n",
    "X_test = sm.add_constant(X_test)\n",
    "y_pred = model.predict(X_test)\n",
    "\n",
    "# Save the predicted values\n",
    "y_pred.to_csv('../res/3D/HAR(1,7,30).csv', index=False)\n",
    "\n",
    "# Plot the predicted values against the actual values\n",
    "plt.figure(figsize=(10, 5))\n",
    "plt.plot(y_test, label='Actual')\n",
    "plt.plot(y_pred, label='Predicted')\n",
    "plt.title(\"HAR(1,7,30) Actual vs Predicted\")\n",
    "plt.xlabel(\"Date\")\n",
    "plt.xticks(ticks=date_ticks)\n",
    "plt.legend()\n",
    "\n",
    "# Save the plot\n",
    "plt.savefig('../res/3D/HAR(1,7,30)_3D_Actual_vs_Predicted.png')"
   ]
  }
 ],
 "metadata": {
  "kernelspec": {
   "display_name": "Python 3",
   "language": "python",
   "name": "python3"
  },
  "language_info": {
   "codemirror_mode": {
    "name": "ipython",
    "version": 3
   },
   "file_extension": ".py",
   "mimetype": "text/x-python",
   "name": "python",
   "nbconvert_exporter": "python",
   "pygments_lexer": "ipython3",
   "version": "3.9.6"
  }
 },
 "nbformat": 4,
 "nbformat_minor": 2
}
