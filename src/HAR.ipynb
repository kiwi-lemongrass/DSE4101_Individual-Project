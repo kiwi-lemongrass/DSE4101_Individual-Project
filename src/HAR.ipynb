{
 "cells": [
  {
   "cell_type": "markdown",
   "metadata": {},
   "source": [
    "# Heterogeneous Autoregressive model"
   ]
  },
  {
   "cell_type": "markdown",
   "metadata": {},
   "source": [
    "The HAR model assumes that the volatility (or other financial variables) is driven by components at different time scales (long-term, medium-term, and short-term)."
   ]
  },
  {
   "cell_type": "markdown",
   "metadata": {},
   "source": [
    "$$\n",
    "lnRV_{t+1} = \\beta_0 + \\beta_1 lnRV_t + \\beta_2 lnRV^w_t + \\beta_3 lnRV^m_t + \\epsilon_t\n",
    "$$\n",
    "Where:\n",
    "- $lnRV_{t+1}$ is the one day ahead forecast of log realised volatility of return.\n",
    "- $\\beta_0, \\beta_1, \\beta_2, \\beta_3$ are the parameters to be estimated.\n",
    "- $lnRV^w_t$ is the weekly realised variance.\n",
    "- $lnRV^m_t$ is the monthly realised variance.\n",
    "- $\\epsilon_t$ is the error term."
   ]
  },
  {
   "cell_type": "markdown",
   "metadata": {},
   "source": [
    "### Load Data"
   ]
  },
  {
   "cell_type": "code",
   "execution_count": 1,
   "metadata": {},
   "outputs": [],
   "source": [
    "import pandas as pd\n",
    "import matplotlib.pyplot as plt\n",
    "import statsmodels.api as sm"
   ]
  },
  {
   "cell_type": "code",
   "execution_count": 2,
   "metadata": {},
   "outputs": [
    {
     "data": {
      "text/html": [
       "<div>\n",
       "<style scoped>\n",
       "    .dataframe tbody tr th:only-of-type {\n",
       "        vertical-align: middle;\n",
       "    }\n",
       "\n",
       "    .dataframe tbody tr th {\n",
       "        vertical-align: top;\n",
       "    }\n",
       "\n",
       "    .dataframe thead th {\n",
       "        text-align: right;\n",
       "    }\n",
       "</style>\n",
       "<table border=\"1\" class=\"dataframe\">\n",
       "  <thead>\n",
       "    <tr style=\"text-align: right;\">\n",
       "      <th></th>\n",
       "      <th>lnRV</th>\n",
       "    </tr>\n",
       "    <tr>\n",
       "      <th>Date</th>\n",
       "      <th></th>\n",
       "    </tr>\n",
       "  </thead>\n",
       "  <tbody>\n",
       "    <tr>\n",
       "      <th>2019-06-23</th>\n",
       "      <td>-3.865058</td>\n",
       "    </tr>\n",
       "    <tr>\n",
       "      <th>2019-06-24</th>\n",
       "      <td>-3.652501</td>\n",
       "    </tr>\n",
       "    <tr>\n",
       "      <th>2019-06-25</th>\n",
       "      <td>-3.161881</td>\n",
       "    </tr>\n",
       "  </tbody>\n",
       "</table>\n",
       "</div>"
      ],
      "text/plain": [
       "                lnRV\n",
       "Date                \n",
       "2019-06-23 -3.865058\n",
       "2019-06-24 -3.652501\n",
       "2019-06-25 -3.161881"
      ]
     },
     "execution_count": 2,
     "metadata": {},
     "output_type": "execute_result"
    }
   ],
   "source": [
    "file_path = \"..\\data\\ALGO_daily.csv\"\n",
    "df = pd.read_csv(file_path)\n",
    "df.rename(columns={'timestamp': 'Date'}, inplace=True)\n",
    "df.set_index('Date', inplace=True)\n",
    "df = df.loc[:, ['lnRV']]\n",
    "df.head(3)"
   ]
  },
  {
   "cell_type": "markdown",
   "metadata": {},
   "source": [
    "### Create Lags"
   ]
  },
  {
   "cell_type": "code",
   "execution_count": 15,
   "metadata": {},
   "outputs": [
    {
     "data": {
      "text/html": [
       "<div>\n",
       "<style scoped>\n",
       "    .dataframe tbody tr th:only-of-type {\n",
       "        vertical-align: middle;\n",
       "    }\n",
       "\n",
       "    .dataframe tbody tr th {\n",
       "        vertical-align: top;\n",
       "    }\n",
       "\n",
       "    .dataframe thead th {\n",
       "        text-align: right;\n",
       "    }\n",
       "</style>\n",
       "<table border=\"1\" class=\"dataframe\">\n",
       "  <thead>\n",
       "    <tr style=\"text-align: right;\">\n",
       "      <th></th>\n",
       "      <th>lnRV</th>\n",
       "      <th>lnRV_1D_mean_lag</th>\n",
       "      <th>lnRV_3D_mean_lag</th>\n",
       "    </tr>\n",
       "    <tr>\n",
       "      <th>Date</th>\n",
       "      <th></th>\n",
       "      <th></th>\n",
       "      <th></th>\n",
       "    </tr>\n",
       "  </thead>\n",
       "  <tbody>\n",
       "    <tr>\n",
       "      <th>2019-06-26</th>\n",
       "      <td>-3.331801</td>\n",
       "      <td>-3.161881</td>\n",
       "      <td>-3.559813</td>\n",
       "    </tr>\n",
       "    <tr>\n",
       "      <th>2019-06-27</th>\n",
       "      <td>-3.956779</td>\n",
       "      <td>-3.331801</td>\n",
       "      <td>-3.382061</td>\n",
       "    </tr>\n",
       "    <tr>\n",
       "      <th>2019-06-28</th>\n",
       "      <td>-4.305468</td>\n",
       "      <td>-3.956779</td>\n",
       "      <td>-3.483487</td>\n",
       "    </tr>\n",
       "    <tr>\n",
       "      <th>2019-06-29</th>\n",
       "      <td>-4.842811</td>\n",
       "      <td>-4.305468</td>\n",
       "      <td>-3.864683</td>\n",
       "    </tr>\n",
       "  </tbody>\n",
       "</table>\n",
       "</div>"
      ],
      "text/plain": [
       "                lnRV  lnRV_1D_mean_lag  lnRV_3D_mean_lag\n",
       "Date                                                    \n",
       "2019-06-26 -3.331801         -3.161881         -3.559813\n",
       "2019-06-27 -3.956779         -3.331801         -3.382061\n",
       "2019-06-28 -4.305468         -3.956779         -3.483487\n",
       "2019-06-29 -4.842811         -4.305468         -3.864683"
      ]
     },
     "execution_count": 15,
     "metadata": {},
     "output_type": "execute_result"
    }
   ],
   "source": [
    "def create_lags(df, lags):\n",
    "    df_copy = df.copy()\n",
    "    for lag in lags:\n",
    "        df_copy[f'lnRV_{lag}D_mean_lag'] = df_copy['lnRV'].rolling(window=lag).mean().shift(1)\n",
    "    df_copy.dropna(inplace=True)\n",
    "    return df_copy\n",
    "\n",
    "create_lags(df, (1,3)).head(4)"
   ]
  },
  {
   "cell_type": "code",
   "execution_count": 11,
   "metadata": {},
   "outputs": [
    {
     "data": {
      "text/plain": [
       "-4.678984"
      ]
     },
     "execution_count": 11,
     "metadata": {},
     "output_type": "execute_result"
    }
   ],
   "source": [
    "(-4.305468-4.842811-4.888673)/3"
   ]
  },
  {
   "cell_type": "markdown",
   "metadata": {},
   "source": [
    "### Feature & Target Split"
   ]
  },
  {
   "cell_type": "code",
   "execution_count": 18,
   "metadata": {},
   "outputs": [
    {
     "data": {
      "text/html": [
       "<div>\n",
       "<style scoped>\n",
       "    .dataframe tbody tr th:only-of-type {\n",
       "        vertical-align: middle;\n",
       "    }\n",
       "\n",
       "    .dataframe tbody tr th {\n",
       "        vertical-align: top;\n",
       "    }\n",
       "\n",
       "    .dataframe thead th {\n",
       "        text-align: right;\n",
       "    }\n",
       "</style>\n",
       "<table border=\"1\" class=\"dataframe\">\n",
       "  <thead>\n",
       "    <tr style=\"text-align: right;\">\n",
       "      <th></th>\n",
       "      <th>const</th>\n",
       "      <th>lnRV_1D_mean_lag</th>\n",
       "      <th>lnRV_3D_mean_lag</th>\n",
       "    </tr>\n",
       "    <tr>\n",
       "      <th>Date</th>\n",
       "      <th></th>\n",
       "      <th></th>\n",
       "      <th></th>\n",
       "    </tr>\n",
       "  </thead>\n",
       "  <tbody>\n",
       "    <tr>\n",
       "      <th>2019-06-26</th>\n",
       "      <td>1.0</td>\n",
       "      <td>-3.161881</td>\n",
       "      <td>-3.559813</td>\n",
       "    </tr>\n",
       "    <tr>\n",
       "      <th>2019-06-27</th>\n",
       "      <td>1.0</td>\n",
       "      <td>-3.331801</td>\n",
       "      <td>-3.382061</td>\n",
       "    </tr>\n",
       "    <tr>\n",
       "      <th>2019-06-28</th>\n",
       "      <td>1.0</td>\n",
       "      <td>-3.956779</td>\n",
       "      <td>-3.483487</td>\n",
       "    </tr>\n",
       "    <tr>\n",
       "      <th>2019-06-29</th>\n",
       "      <td>1.0</td>\n",
       "      <td>-4.305468</td>\n",
       "      <td>-3.864683</td>\n",
       "    </tr>\n",
       "  </tbody>\n",
       "</table>\n",
       "</div>"
      ],
      "text/plain": [
       "            const  lnRV_1D_mean_lag  lnRV_3D_mean_lag\n",
       "Date                                                 \n",
       "2019-06-26    1.0         -3.161881         -3.559813\n",
       "2019-06-27    1.0         -3.331801         -3.382061\n",
       "2019-06-28    1.0         -3.956779         -3.483487\n",
       "2019-06-29    1.0         -4.305468         -3.864683"
      ]
     },
     "execution_count": 18,
     "metadata": {},
     "output_type": "execute_result"
    }
   ],
   "source": [
    "def split_f_t(df, lags):\n",
    "    df_h = create_lags(df, lags)\n",
    "    \n",
    "    features = df_h.columns\n",
    "    features = features[features != 'lnRV']\n",
    "\n",
    "    X = df_h[features]\n",
    "    y = df_h['lnRV']\n",
    "    \n",
    "    # Adds a constant term to the predictor\n",
    "    X = sm.add_constant(X)\n",
    "    return X, y\n",
    "\n",
    "X, y = split_f_t(df, (1,3))\n",
    "X.head(4)"
   ]
  },
  {
   "cell_type": "code",
   "execution_count": 17,
   "metadata": {},
   "outputs": [
    {
     "data": {
      "text/plain": [
       "Date\n",
       "2019-06-26   -3.331801\n",
       "2019-06-27   -3.956779\n",
       "2019-06-28   -4.305468\n",
       "2019-06-29   -4.842811\n",
       "Name: lnRV, dtype: float64"
      ]
     },
     "execution_count": 17,
     "metadata": {},
     "output_type": "execute_result"
    }
   ],
   "source": [
    "y[:4]"
   ]
  },
  {
   "cell_type": "markdown",
   "metadata": {},
   "source": [
    "### Train & Test Split"
   ]
  },
  {
   "cell_type": "code",
   "execution_count": 5,
   "metadata": {},
   "outputs": [],
   "source": [
    "# Split the data into training and testing sets by the cutoff date\n",
    "def split_t_t(X, y, cutoff_date='2024-01-01'):\n",
    "    X_train, X_test = X[X.index < cutoff_date], X[X.index >= cutoff_date]\n",
    "    y_train, y_test = y[y.index < cutoff_date], y[y.index >= cutoff_date]\n",
    "    return X_train, X_test, y_train, y_test"
   ]
  },
  {
   "cell_type": "code",
   "execution_count": 19,
   "metadata": {},
   "outputs": [
    {
     "data": {
      "text/html": [
       "<div>\n",
       "<style scoped>\n",
       "    .dataframe tbody tr th:only-of-type {\n",
       "        vertical-align: middle;\n",
       "    }\n",
       "\n",
       "    .dataframe tbody tr th {\n",
       "        vertical-align: top;\n",
       "    }\n",
       "\n",
       "    .dataframe thead th {\n",
       "        text-align: right;\n",
       "    }\n",
       "</style>\n",
       "<table border=\"1\" class=\"dataframe\">\n",
       "  <thead>\n",
       "    <tr style=\"text-align: right;\">\n",
       "      <th></th>\n",
       "      <th>const</th>\n",
       "      <th>lnRV_1D_mean_lag</th>\n",
       "      <th>lnRV_3D_mean_lag</th>\n",
       "    </tr>\n",
       "    <tr>\n",
       "      <th>Date</th>\n",
       "      <th></th>\n",
       "      <th></th>\n",
       "      <th></th>\n",
       "    </tr>\n",
       "  </thead>\n",
       "  <tbody>\n",
       "    <tr>\n",
       "      <th>2019-06-26</th>\n",
       "      <td>1.0</td>\n",
       "      <td>-3.161881</td>\n",
       "      <td>-3.559813</td>\n",
       "    </tr>\n",
       "    <tr>\n",
       "      <th>2019-06-27</th>\n",
       "      <td>1.0</td>\n",
       "      <td>-3.331801</td>\n",
       "      <td>-3.382061</td>\n",
       "    </tr>\n",
       "    <tr>\n",
       "      <th>2019-06-28</th>\n",
       "      <td>1.0</td>\n",
       "      <td>-3.956779</td>\n",
       "      <td>-3.483487</td>\n",
       "    </tr>\n",
       "    <tr>\n",
       "      <th>2019-06-29</th>\n",
       "      <td>1.0</td>\n",
       "      <td>-4.305468</td>\n",
       "      <td>-3.864683</td>\n",
       "    </tr>\n",
       "  </tbody>\n",
       "</table>\n",
       "</div>"
      ],
      "text/plain": [
       "            const  lnRV_1D_mean_lag  lnRV_3D_mean_lag\n",
       "Date                                                 \n",
       "2019-06-26    1.0         -3.161881         -3.559813\n",
       "2019-06-27    1.0         -3.331801         -3.382061\n",
       "2019-06-28    1.0         -3.956779         -3.483487\n",
       "2019-06-29    1.0         -4.305468         -3.864683"
      ]
     },
     "execution_count": 19,
     "metadata": {},
     "output_type": "execute_result"
    }
   ],
   "source": [
    "X_train, X_test, y_train, y_test = split_t_t(X, y, cutoff_date='2024-01-01')\n",
    "X_train.head(4)"
   ]
  },
  {
   "cell_type": "code",
   "execution_count": 20,
   "metadata": {},
   "outputs": [
    {
     "data": {
      "text/plain": [
       "Date\n",
       "2019-06-26   -3.331801\n",
       "2019-06-27   -3.956779\n",
       "2019-06-28   -4.305468\n",
       "2019-06-29   -4.842811\n",
       "Name: lnRV, dtype: float64"
      ]
     },
     "execution_count": 20,
     "metadata": {},
     "output_type": "execute_result"
    }
   ],
   "source": [
    "y_train[:4]"
   ]
  },
  {
   "cell_type": "markdown",
   "metadata": {},
   "source": [
    "### Prediction"
   ]
  },
  {
   "cell_type": "code",
   "execution_count": 6,
   "metadata": {},
   "outputs": [],
   "source": [
    "cutoff_dates = {1: '2024-01-02', 3: '2024-01-04', 7: '2024-01-08', 30: '2024-01-31'}"
   ]
  },
  {
   "cell_type": "code",
   "execution_count": 7,
   "metadata": {},
   "outputs": [],
   "source": [
    "def get_pred(df, lags, h):\n",
    "\n",
    "    # Split the data into features and target\n",
    "    X, y = split_f_t(df, lags)\n",
    "\n",
    "    # Split the data into training and testing sets\n",
    "    X_train, X_test, y_train, y_test = split_t_t(X, y, cutoff_dates[h])\n",
    "    \n",
    "    # Fit the model\n",
    "    model = sm.OLS(y_train, X_train).fit()\n",
    "\n",
    "    # Make predictions\n",
    "    pred = model.predict(X_test)\n",
    "    pred = pd.DataFrame(pred, columns=['Predicted'])\n",
    "    pred.index = X_test.index\n",
    "\n",
    "    # save predictions to csv\n",
    "    pred.to_csv(f'../res/HAR{lags}_{h}D.csv')\n",
    "    \n",
    "    return pred, y_test, model"
   ]
  },
  {
   "cell_type": "markdown",
   "metadata": {},
   "source": [
    "### Plotting"
   ]
  },
  {
   "cell_type": "code",
   "execution_count": 8,
   "metadata": {},
   "outputs": [],
   "source": [
    "def plot_pred(pred, actual, h, lags):\n",
    "    plt.figure(figsize=(8, 3))\n",
    "    plt.plot(actual, label='Actual')\n",
    "    plt.plot(pred, label='Predicted')\n",
    "    plt.xticks(actual.index[::100])\n",
    "    plt.xlabel('Date')\n",
    "    plt.ylabel('Volatility')\n",
    "    plt.title(f'HAR{lags}_{h}D-Ahead Forecast')\n",
    "    plt.legend()\n",
    "    plt.savefig(f'../res/HAR{lags}_{h}D-Ahead Forecast.png')"
   ]
  },
  {
   "cell_type": "markdown",
   "metadata": {},
   "source": [
    "## Results"
   ]
  },
  {
   "cell_type": "code",
   "execution_count": 9,
   "metadata": {},
   "outputs": [
    {
     "name": "stdout",
     "output_type": "stream",
     "text": [
      "1 (1, 7, 30) \n",
      "                             OLS Regression Results                            \n",
      "==============================================================================\n",
      "Dep. Variable:                   lnRV   R-squared:                       0.681\n",
      "Model:                            OLS   Adj. R-squared:                  0.680\n",
      "Method:                 Least Squares   F-statistic:                     1151.\n",
      "Date:                Fri, 11 Apr 2025   Prob (F-statistic):               0.00\n",
      "Time:                        17:07:19   Log-Likelihood:                -1248.7\n",
      "No. Observations:                1624   AIC:                             2505.\n",
      "Df Residuals:                    1620   BIC:                             2527.\n",
      "Df Model:                           3                                         \n",
      "Covariance Type:            nonrobust                                         \n",
      "=====================================================================================\n",
      "                        coef    std err          t      P>|t|      [0.025      0.975]\n",
      "-------------------------------------------------------------------------------------\n",
      "const                -0.3951      0.107     -3.704      0.000      -0.604      -0.186\n",
      "lnRV_1D_mean_lag      0.5361      0.026     20.792      0.000       0.486       0.587\n",
      "lnRV_7D_mean_lag      0.3003      0.039      7.636      0.000       0.223       0.377\n",
      "lnRV_30D_mean_lag     0.0951      0.034      2.825      0.005       0.029       0.161\n",
      "==============================================================================\n",
      "Omnibus:                      354.395   Durbin-Watson:                   2.062\n",
      "Prob(Omnibus):                  0.000   Jarque-Bera (JB):             1224.798\n",
      "Skew:                           1.051   Prob(JB):                    1.09e-266\n",
      "Kurtosis:                       6.699   Cond. No.                         83.7\n",
      "==============================================================================\n",
      "\n",
      "Notes:\n",
      "[1] Standard Errors assume that the covariance matrix of the errors is correctly specified.\n",
      "3 (1, 7, 30) \n",
      "                             OLS Regression Results                            \n",
      "==============================================================================\n",
      "Dep. Variable:                   lnRV   R-squared:                       0.677\n",
      "Model:                            OLS   Adj. R-squared:                  0.677\n",
      "Method:                 Least Squares   F-statistic:                     1134.\n",
      "Date:                Fri, 11 Apr 2025   Prob (F-statistic):               0.00\n",
      "Time:                        17:07:20   Log-Likelihood:                -1260.9\n",
      "No. Observations:                1626   AIC:                             2530.\n",
      "Df Residuals:                    1622   BIC:                             2551.\n",
      "Df Model:                           3                                         \n",
      "Covariance Type:            nonrobust                                         \n",
      "=====================================================================================\n",
      "                        coef    std err          t      P>|t|      [0.025      0.975]\n",
      "-------------------------------------------------------------------------------------\n",
      "const                -0.3947      0.107     -3.676      0.000      -0.605      -0.184\n",
      "lnRV_1D_mean_lag      0.5355      0.026     20.643      0.000       0.485       0.586\n",
      "lnRV_7D_mean_lag      0.2981      0.040      7.532      0.000       0.220       0.376\n",
      "lnRV_30D_mean_lag     0.0976      0.034      2.882      0.004       0.031       0.164\n",
      "==============================================================================\n",
      "Omnibus:                      370.970   Durbin-Watson:                   2.045\n",
      "Prob(Omnibus):                  0.000   Jarque-Bera (JB):             1319.051\n",
      "Skew:                           1.090   Prob(JB):                    3.73e-287\n",
      "Kurtosis:                       6.836   Cond. No.                         83.7\n",
      "==============================================================================\n",
      "\n",
      "Notes:\n",
      "[1] Standard Errors assume that the covariance matrix of the errors is correctly specified.\n",
      "7 (1, 7, 30) \n",
      "                             OLS Regression Results                            \n",
      "==============================================================================\n",
      "Dep. Variable:                   lnRV   R-squared:                       0.675\n",
      "Model:                            OLS   Adj. R-squared:                  0.675\n",
      "Method:                 Least Squares   F-statistic:                     1127.\n",
      "Date:                Fri, 11 Apr 2025   Prob (F-statistic):               0.00\n",
      "Time:                        17:07:20   Log-Likelihood:                -1266.9\n",
      "No. Observations:                1630   AIC:                             2542.\n",
      "Df Residuals:                    1626   BIC:                             2563.\n",
      "Df Model:                           3                                         \n",
      "Covariance Type:            nonrobust                                         \n",
      "=====================================================================================\n",
      "                        coef    std err          t      P>|t|      [0.025      0.975]\n",
      "-------------------------------------------------------------------------------------\n",
      "const                -0.3990      0.108     -3.709      0.000      -0.610      -0.188\n",
      "lnRV_1D_mean_lag      0.5271      0.026     20.410      0.000       0.476       0.578\n",
      "lnRV_7D_mean_lag      0.3068      0.040      7.762      0.000       0.229       0.384\n",
      "lnRV_30D_mean_lag     0.0967      0.034      2.851      0.004       0.030       0.163\n",
      "==============================================================================\n",
      "Omnibus:                      367.821   Durbin-Watson:                   2.063\n",
      "Prob(Omnibus):                  0.000   Jarque-Bera (JB):             1303.642\n",
      "Skew:                           1.079   Prob(JB):                    8.27e-284\n",
      "Kurtosis:                       6.813   Cond. No.                         83.8\n",
      "==============================================================================\n",
      "\n",
      "Notes:\n",
      "[1] Standard Errors assume that the covariance matrix of the errors is correctly specified.\n",
      "30 (1, 7, 30) \n",
      "                             OLS Regression Results                            \n",
      "==============================================================================\n",
      "Dep. Variable:                   lnRV   R-squared:                       0.675\n",
      "Model:                            OLS   Adj. R-squared:                  0.675\n",
      "Method:                 Least Squares   F-statistic:                     1144.\n",
      "Date:                Fri, 11 Apr 2025   Prob (F-statistic):               0.00\n",
      "Time:                        17:07:20   Log-Likelihood:                -1282.1\n",
      "No. Observations:                1653   AIC:                             2572.\n",
      "Df Residuals:                    1649   BIC:                             2594.\n",
      "Df Model:                           3                                         \n",
      "Covariance Type:            nonrobust                                         \n",
      "=====================================================================================\n",
      "                        coef    std err          t      P>|t|      [0.025      0.975]\n",
      "-------------------------------------------------------------------------------------\n",
      "const                -0.3964      0.107     -3.693      0.000      -0.607      -0.186\n",
      "lnRV_1D_mean_lag      0.5278      0.026     20.578      0.000       0.477       0.578\n",
      "lnRV_7D_mean_lag      0.3087      0.039      7.852      0.000       0.232       0.386\n",
      "lnRV_30D_mean_lag     0.0950      0.034      2.813      0.005       0.029       0.161\n",
      "==============================================================================\n",
      "Omnibus:                      371.845   Durbin-Watson:                   2.061\n",
      "Prob(Omnibus):                  0.000   Jarque-Bera (JB):             1313.102\n",
      "Skew:                           1.077   Prob(JB):                    7.30e-286\n",
      "Kurtosis:                       6.798   Cond. No.                         84.4\n",
      "==============================================================================\n",
      "\n",
      "Notes:\n",
      "[1] Standard Errors assume that the covariance matrix of the errors is correctly specified.\n"
     ]
    }
   ],
   "source": [
    "for h in [1, 3, 7, 30]:\n",
    "    for lags in ((1,7,30),):\n",
    "        pred, actual, model = get_pred(df, lags, h)\n",
    "        print(h, lags, '\\n', model.summary())"
   ]
  }
 ],
 "metadata": {
  "kernelspec": {
   "display_name": "Python 3",
   "language": "python",
   "name": "python3"
  },
  "language_info": {
   "codemirror_mode": {
    "name": "ipython",
    "version": 3
   },
   "file_extension": ".py",
   "mimetype": "text/x-python",
   "name": "python",
   "nbconvert_exporter": "python",
   "pygments_lexer": "ipython3",
   "version": "3.9.6"
  }
 },
 "nbformat": 4,
 "nbformat_minor": 2
}
