{
 "cells": [
  {
   "cell_type": "markdown",
   "metadata": {},
   "source": [
    "# Heterogeneous Autoregressive model"
   ]
  },
  {
   "cell_type": "markdown",
   "metadata": {},
   "source": [
    "The HAR model assumes that the volatility (or other financial variables) is driven by components at different time scales (long-term, medium-term, and short-term)."
   ]
  },
  {
   "cell_type": "markdown",
   "metadata": {},
   "source": [
    "## Load Data"
   ]
  },
  {
   "cell_type": "code",
   "execution_count": null,
   "metadata": {},
   "outputs": [],
   "source": [
    "import pandas as pd\n",
    "import matplotlib.pyplot as plt\n",
    "import statsmodels.api as sm"
   ]
  },
  {
   "cell_type": "code",
   "execution_count": null,
   "metadata": {},
   "outputs": [],
   "source": [
    "file_path = \"..\\data\\ALGO_daily.csv\"\n",
    "df = pd.read_csv(file_path)\n",
    "df.rename(columns={'timestamp': 'Date'}, inplace=True)\n",
    "df.set_index('Date', inplace=True)\n",
    "df.head(2)"
   ]
  },
  {
   "cell_type": "markdown",
   "metadata": {},
   "source": [
    "### Create Lagged lnRV"
   ]
  },
  {
   "cell_type": "code",
   "execution_count": null,
   "metadata": {},
   "outputs": [],
   "source": [
    "df['lnRV_5D_lag'] = df['lnRV'].rolling(window=5).mean()\n",
    "df['lnRV_7D_lag'] = df['lnRV'].rolling(window=7).mean()\n",
    "df['lnRV_22D_lag'] = df['lnRV'].rolling(window=22).mean()\n",
    "df['lnRV_30D_lag'] = df['lnRV'].rolling(window=30).mean()\n",
    "df['lnRV_60D_lag'] = df['lnRV'].rolling(window=60).mean()\n",
    "df.dropna(inplace=True)"
   ]
  },
  {
   "cell_type": "markdown",
   "metadata": {},
   "source": [
    "## Train Test Split"
   ]
  },
  {
   "cell_type": "code",
   "execution_count": null,
   "metadata": {},
   "outputs": [],
   "source": [
    "# Train-Test Split (80% train, 20% test)\n",
    "train_size = int(0.8 * len(df))\n",
    "test_size = len(df) - train_size\n",
    "df_train, df_test = df.iloc[:train_size], df.iloc[train_size:]\n",
    "\n",
    "print(\"Training Set:\", df_train.shape, df_test.shape)\n",
    "print(\"test period starts:\", df_test.index[0])"
   ]
  },
  {
   "cell_type": "code",
   "execution_count": null,
   "metadata": {},
   "outputs": [],
   "source": [
    "date_ticks = ['2024-01-10', '2024-04-01', '2024-07-01', '2024-10-01', '2025-01-01']"
   ]
  },
  {
   "cell_type": "markdown",
   "metadata": {},
   "source": [
    "## 1-day ahead forecasting"
   ]
  },
  {
   "cell_type": "markdown",
   "metadata": {},
   "source": [
    "### HAR(1,5,22)"
   ]
  },
  {
   "cell_type": "markdown",
   "metadata": {},
   "source": [
    "$$\n",
    "lnRV_t = \\alpha + \\beta_1 lnRV_{t-1} + \\beta_2 lnRV_{5D, t-1} + \\beta_3 lnRV_{22D, t-1} + \\epsilon_t\n",
    "$$\n",
    "Where:\n",
    "- $lnRV_t$ is the dependent variable (e.g., log realised volatility of return) at time \\( t \\).\n",
    "- $\\alpha$ is a constant term.\n",
    "- $\\beta_1, \\beta_2, \\beta_3$ are the coefficients for different time lags.\n",
    "- $lnRV_{5D, t-1}$ and $lnRV_{22D, t-1}$ are the 1-day lag of the average log realised volatility of return over the past 5 days and 22 days respectively.\n",
    "- $\\epsilon_t$ is the error term."
   ]
  },
  {
   "cell_type": "code",
   "execution_count": null,
   "metadata": {},
   "outputs": [],
   "source": [
    "# Define dependent (y) and independent variables (X)\n",
    "y_train = df_train['lnRV']\n",
    "X_train = df_train[['lnRV_lag1', 'lnRV_5D_lag1', 'lnRV_22D_lag1']]\n",
    "y_test = df_test['lnRV']\n",
    "X_test = df_test[['lnRV_lag1', 'lnRV_5D_lag1', 'lnRV_22D_lag1']]"
   ]
  },
  {
   "cell_type": "code",
   "execution_count": null,
   "metadata": {},
   "outputs": [],
   "source": [
    "# Add a constant to the independent value\n",
    "X_train = sm.add_constant(X_train)\n",
    "\n",
    "# Fit the OLS regression\n",
    "model = sm.OLS(y_train, X_train).fit()\n",
    "\n",
    "# Print summary of results\n",
    "print(model.summary())"
   ]
  },
  {
   "cell_type": "code",
   "execution_count": null,
   "metadata": {},
   "outputs": [],
   "source": [
    "# Predict y values\n",
    "X_test = sm.add_constant(X_test)\n",
    "y_pred = model.predict(X_test)\n",
    "\n",
    "# Save the predicted values\n",
    "y_pred.to_csv('../res/1D/HAR(1,5,22).csv', index=False)"
   ]
  },
  {
   "cell_type": "code",
   "execution_count": null,
   "metadata": {},
   "outputs": [],
   "source": [
    "# Plot the predicted values against the actual values\n",
    "plt.figure(figsize=(10, 5))\n",
    "plt.plot(y_test, label='Actual')\n",
    "plt.plot(y_pred, label='Predicted')\n",
    "plt.title(\"HAR(1,5,22) Actual vs Predicted\")\n",
    "plt.xlabel(\"Date\")\n",
    "plt.xticks(ticks=date_ticks)\n",
    "plt.legend()\n",
    "\n",
    "# Save the plot\n",
    "plt.savefig('../res/1D/HAR(1,5,22)_Actual_vs_Predicted.png')"
   ]
  },
  {
   "cell_type": "markdown",
   "metadata": {},
   "source": [
    "### HAR(1,7,22)"
   ]
  },
  {
   "cell_type": "markdown",
   "metadata": {},
   "source": [
    "$$\n",
    "lnRV_t = \\alpha + \\beta_1 lnRV_{t-1} + \\beta_2 lnRV_{7D, t-1} + \\beta_3 lnRV_{30D, t-1} + \\epsilon_t\n",
    "$$\n",
    "Where:\n",
    "- $lnRV_t$ is the dependent variable (e.g., log realised volatility of return) at time \\( t \\).\n",
    "- $\\alpha$ is a constant term.\n",
    "- $\\beta_1, \\beta_2, \\beta_3$ are the coefficients for different time lags.\n",
    "- $lnRV_{7D, t-1}$ and $lnRV_{30D, t-1}$ are the 1-day lag of the average log realised volatility of return over the past 7 days and 30 days respectively.\n",
    "- $\\epsilon_t$ is the error term."
   ]
  },
  {
   "cell_type": "code",
   "execution_count": null,
   "metadata": {},
   "outputs": [],
   "source": [
    "# Define dependent (y) and independent variables (X)\n",
    "y_train = df_train['lnRV']\n",
    "X_train = df_train[['lnRV_lag1', 'lnRV_7D_lag1', 'lnRV_30D_lag1']]\n",
    "y_test = df_test['lnRV']\n",
    "X_test = df_test[['lnRV_lag1', 'lnRV_7D_lag1', 'lnRV_30D_lag1']]\n",
    "\n",
    "# Add a constant to the independent value\n",
    "X_train = sm.add_constant(X_train)\n",
    "\n",
    "# Fit the OLS regression\n",
    "model = sm.OLS(y_train, X_train).fit()\n",
    "\n",
    "# Print summary of results\n",
    "print(model.summary())"
   ]
  },
  {
   "cell_type": "code",
   "execution_count": null,
   "metadata": {},
   "outputs": [],
   "source": [
    "# Predict y values\n",
    "X_test = sm.add_constant(X_test)\n",
    "y_pred = model.predict(X_test)\n",
    "\n",
    "# Save the predicted values\n",
    "y_pred.to_csv('../res/1D/HAR(1,7,30).csv', index=False)"
   ]
  },
  {
   "cell_type": "code",
   "execution_count": null,
   "metadata": {},
   "outputs": [],
   "source": [
    "# Plot the predicted values against the actual values\n",
    "plt.figure(figsize=(10, 5))\n",
    "plt.plot(y_test, label='Actual')\n",
    "plt.plot(y_pred, label='Predicted')\n",
    "plt.title(\"HAR(1,7,30) Actual vs Predicted\")\n",
    "plt.xlabel(\"Date\")\n",
    "plt.xticks(ticks=date_ticks)\n",
    "plt.legend()\n",
    "\n",
    "# Save the plot\n",
    "plt.savefig('../res/1D/HAR(1,7,30)_Actual_vs_Predicted.png')"
   ]
  },
  {
   "cell_type": "markdown",
   "metadata": {},
   "source": [
    "## 3-day ahead forecasting"
   ]
  },
  {
   "cell_type": "markdown",
   "metadata": {},
   "source": [
    "### HAR(1,5,22)"
   ]
  },
  {
   "cell_type": "code",
   "execution_count": null,
   "metadata": {},
   "outputs": [],
   "source": [
    "# Define dependent (y) and independent variables (X)\n",
    "y_train = df_train['lnRV']\n",
    "X_train = df_train[['lnRV_lag3', 'lnRV_5D_lag3', 'lnRV_22D_lag3']]\n",
    "X_test = df_test[['lnRV_lag3', 'lnRV_5D_lag3', 'lnRV_22D_lag3']]\n",
    "\n",
    "# Add a constant to the independent value\n",
    "X_train = sm.add_constant(X_train)\n",
    "\n",
    "# Fit the OLS regression\n",
    "model = sm.OLS(y_train, X_train).fit()\n",
    "\n",
    "# Print summary of results\n",
    "print(model.summary())"
   ]
  },
  {
   "cell_type": "code",
   "execution_count": null,
   "metadata": {},
   "outputs": [],
   "source": [
    "# Predict y values\n",
    "X_test = sm.add_constant(X_test)\n",
    "y_pred = model.predict(X_test)\n",
    "\n",
    "# Save the predicted values\n",
    "y_pred.to_csv('../res/3D/HAR(1,5,22).csv', index=False)\n",
    "\n",
    "# Plot the predicted values against the actual values\n",
    "plt.figure(figsize=(10, 5))\n",
    "plt.plot(y_test, label='Actual')\n",
    "plt.plot(y_pred, label='Predicted')\n",
    "plt.title(\"HAR(1,5,22) Actual vs Predicted\")\n",
    "plt.xlabel(\"Date\")\n",
    "plt.xticks(ticks=date_ticks)\n",
    "plt.legend()\n",
    "\n",
    "# Save the plot\n",
    "plt.savefig('../res/3D/HAR(1,5,22)_3D_Actual_vs_Predicted.png')"
   ]
  },
  {
   "cell_type": "markdown",
   "metadata": {},
   "source": [
    "### HAR(1,7,22)"
   ]
  },
  {
   "cell_type": "code",
   "execution_count": null,
   "metadata": {},
   "outputs": [],
   "source": [
    "# Define dependent (y) and independent variables (X)\n",
    "y_train = df_train['lnRV']\n",
    "X_train = df_train[['lnRV_lag3', 'lnRV_7D_lag3', 'lnRV_30D_lag3']]\n",
    "X_test = df_test[['lnRV_lag3', 'lnRV_7D_lag3', 'lnRV_30D_lag3']]\n",
    "\n",
    "# Add a constant to the independent value\n",
    "X_train = sm.add_constant(X_train)\n",
    "\n",
    "# Fit the OLS regression\n",
    "model = sm.OLS(y_train, X_train).fit()\n",
    "\n",
    "# Print summary of results\n",
    "print(model.summary())"
   ]
  },
  {
   "cell_type": "code",
   "execution_count": null,
   "metadata": {},
   "outputs": [],
   "source": [
    "# Predict y values\n",
    "X_test = sm.add_constant(X_test)\n",
    "y_pred = model.predict(X_test)\n",
    "\n",
    "# Save the predicted values\n",
    "y_pred.to_csv('../res/3D/HAR(1,7,30).csv', index=False)\n",
    "\n",
    "# Plot the predicted values against the actual values\n",
    "plt.figure(figsize=(10, 5))\n",
    "plt.plot(y_test, label='Actual')\n",
    "plt.plot(y_pred, label='Predicted')\n",
    "plt.title(\"HAR(1,7,30) Actual vs Predicted\")\n",
    "plt.xlabel(\"Date\")\n",
    "plt.xticks(ticks=date_ticks)\n",
    "plt.legend()\n",
    "\n",
    "# Save the plot\n",
    "plt.savefig('../res/3D/HAR(1,7,30)_3D_Actual_vs_Predicted.png')"
   ]
  }
 ],
 "metadata": {
  "kernelspec": {
   "display_name": "Python 3",
   "language": "python",
   "name": "python3"
  },
  "language_info": {
   "codemirror_mode": {
    "name": "ipython",
    "version": 3
   },
   "file_extension": ".py",
   "mimetype": "text/x-python",
   "name": "python",
   "nbconvert_exporter": "python",
   "pygments_lexer": "ipython3",
   "version": "3.9.6"
  }
 },
 "nbformat": 4,
 "nbformat_minor": 2
}
