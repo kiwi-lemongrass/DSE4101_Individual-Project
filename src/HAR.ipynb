{
 "cells": [
  {
   "cell_type": "markdown",
   "metadata": {},
   "source": [
    "# Heterogeneous Autoregressive model"
   ]
  },
  {
   "cell_type": "markdown",
   "metadata": {},
   "source": [
    "The HAR model assumes that the volatility (or other financial variables) is driven by components at different time scales (long-term, medium-term, and short-term)."
   ]
  },
  {
   "cell_type": "markdown",
   "metadata": {},
   "source": [
    "$$\n",
    "lnRV_{t+1} = \\beta_0 + \\beta_1 lnRV_t + \\beta_2 lnRV^w_t + \\beta_3 lnRV^m_t + \\epsilon_t\n",
    "$$\n",
    "Where:\n",
    "- $lnRV_{t+1}$ is the one day ahead forecast of log realised volatility of return.\n",
    "- $\\beta_0, \\beta_1, \\beta_2, \\beta_3$ are the parameters to be estimated.\n",
    "- $lnRV^w_t$ is the weekly realised variance.\n",
    "- $lnRV^m_t$ is the monthly realised variance.\n",
    "- $\\epsilon_t$ is the error term."
   ]
  },
  {
   "cell_type": "markdown",
   "metadata": {},
   "source": [
    "Flow:\n",
    "- Load data\n",
    "- For each lags choice: \n",
    "\n",
    "    - Create lags\n",
    "\n",
    "    - For each forecast horizon: \n",
    "\n",
    "        - Split feature and target\n",
    "\n",
    "        - Split train and test"
   ]
  },
  {
   "cell_type": "markdown",
   "metadata": {},
   "source": [
    "### Load Data"
   ]
  },
  {
   "cell_type": "code",
   "execution_count": 6,
   "metadata": {},
   "outputs": [],
   "source": [
    "import pandas as pd\n",
    "import matplotlib.pyplot as plt\n",
    "import statsmodels.api as sm"
   ]
  },
  {
   "cell_type": "code",
   "execution_count": 13,
   "metadata": {},
   "outputs": [
    {
     "data": {
      "text/html": [
       "<div>\n",
       "<style scoped>\n",
       "    .dataframe tbody tr th:only-of-type {\n",
       "        vertical-align: middle;\n",
       "    }\n",
       "\n",
       "    .dataframe tbody tr th {\n",
       "        vertical-align: top;\n",
       "    }\n",
       "\n",
       "    .dataframe thead th {\n",
       "        text-align: right;\n",
       "    }\n",
       "</style>\n",
       "<table border=\"1\" class=\"dataframe\">\n",
       "  <thead>\n",
       "    <tr style=\"text-align: right;\">\n",
       "      <th></th>\n",
       "      <th>open</th>\n",
       "      <th>high</th>\n",
       "      <th>low</th>\n",
       "      <th>close</th>\n",
       "      <th>return</th>\n",
       "      <th>RV</th>\n",
       "      <th>lnRV</th>\n",
       "      <th>lnRV_1D_ahead</th>\n",
       "      <th>lnRV_3D_ahead</th>\n",
       "      <th>lnRV_7D_ahead</th>\n",
       "      <th>lnRV_30D_ahead</th>\n",
       "    </tr>\n",
       "    <tr>\n",
       "      <th>Date</th>\n",
       "      <th></th>\n",
       "      <th></th>\n",
       "      <th></th>\n",
       "      <th></th>\n",
       "      <th></th>\n",
       "      <th></th>\n",
       "      <th></th>\n",
       "      <th></th>\n",
       "      <th></th>\n",
       "      <th></th>\n",
       "      <th></th>\n",
       "    </tr>\n",
       "  </thead>\n",
       "  <tbody>\n",
       "    <tr>\n",
       "      <th>2019-06-23</th>\n",
       "      <td>2.190</td>\n",
       "      <td>2.234</td>\n",
       "      <td>1.800</td>\n",
       "      <td>1.934</td>\n",
       "      <td>-0.125224</td>\n",
       "      <td>0.020962</td>\n",
       "      <td>-3.865058</td>\n",
       "      <td>-3.652501</td>\n",
       "      <td>-3.331801</td>\n",
       "      <td>-4.888673</td>\n",
       "      <td>-4.531543</td>\n",
       "    </tr>\n",
       "    <tr>\n",
       "      <th>2019-06-24</th>\n",
       "      <td>1.932</td>\n",
       "      <td>2.020</td>\n",
       "      <td>1.301</td>\n",
       "      <td>1.416</td>\n",
       "      <td>-0.311754</td>\n",
       "      <td>0.025926</td>\n",
       "      <td>-3.652501</td>\n",
       "      <td>-3.161881</td>\n",
       "      <td>-3.956779</td>\n",
       "      <td>-4.830684</td>\n",
       "      <td>-4.813612</td>\n",
       "    </tr>\n",
       "    <tr>\n",
       "      <th>2019-06-25</th>\n",
       "      <td>1.417</td>\n",
       "      <td>1.920</td>\n",
       "      <td>1.314</td>\n",
       "      <td>1.540</td>\n",
       "      <td>0.083946</td>\n",
       "      <td>0.042346</td>\n",
       "      <td>-3.161881</td>\n",
       "      <td>-3.331801</td>\n",
       "      <td>-4.305468</td>\n",
       "      <td>-4.114677</td>\n",
       "      <td>-5.343002</td>\n",
       "    </tr>\n",
       "  </tbody>\n",
       "</table>\n",
       "</div>"
      ],
      "text/plain": [
       "             open   high    low  close    return        RV      lnRV  \\\n",
       "Date                                                                   \n",
       "2019-06-23  2.190  2.234  1.800  1.934 -0.125224  0.020962 -3.865058   \n",
       "2019-06-24  1.932  2.020  1.301  1.416 -0.311754  0.025926 -3.652501   \n",
       "2019-06-25  1.417  1.920  1.314  1.540  0.083946  0.042346 -3.161881   \n",
       "\n",
       "            lnRV_1D_ahead  lnRV_3D_ahead  lnRV_7D_ahead  lnRV_30D_ahead  \n",
       "Date                                                                     \n",
       "2019-06-23      -3.652501      -3.331801      -4.888673       -4.531543  \n",
       "2019-06-24      -3.161881      -3.956779      -4.830684       -4.813612  \n",
       "2019-06-25      -3.331801      -4.305468      -4.114677       -5.343002  "
      ]
     },
     "execution_count": 13,
     "metadata": {},
     "output_type": "execute_result"
    }
   ],
   "source": [
    "file_path = \"..\\data\\ALGO_daily.csv\"\n",
    "df = pd.read_csv(file_path)\n",
    "df.rename(columns={'timestamp': 'Date'}, inplace=True)\n",
    "df.set_index('Date', inplace=True)\n",
    "df.head(3)"
   ]
  },
  {
   "cell_type": "markdown",
   "metadata": {},
   "source": [
    "### Create Lags"
   ]
  },
  {
   "cell_type": "code",
   "execution_count": 8,
   "metadata": {},
   "outputs": [],
   "source": [
    "def create_lag(df, lag):\n",
    "    df_copy = df.copy()\n",
    "    df_copy[f'lnRV_{lag}D_lag'] = df_copy['lnRV'].rolling(window=lag).mean()\n",
    "    return df_copy\n",
    "\n",
    "def create_lags(df, lags):\n",
    "    for lag in lags:\n",
    "        df = create_lag(df, lag)\n",
    "    return df"
   ]
  },
  {
   "cell_type": "markdown",
   "metadata": {},
   "source": [
    "### Feature & Target Split"
   ]
  },
  {
   "cell_type": "code",
   "execution_count": 9,
   "metadata": {},
   "outputs": [],
   "source": [
    "def split_f_t(df, horizon):\n",
    "    df_h = df.copy()\n",
    "    # drop columns with a different horizon\n",
    "    df_h.drop(columns=[f'lnRV_{h}D_ahead' for h in [1, 3, 7, 30] if h != horizon], inplace=True)\n",
    "    df_h.dropna(inplace=True)\n",
    "\n",
    "    target = df_h.columns[0]\n",
    "    features = df_h.columns\n",
    "    features = features[features != target]\n",
    "\n",
    "    X = df_h[features]\n",
    "    y = df_h[target]\n",
    "    X = sm.add_constant(X)  # Adds a constant term to the predictor\n",
    "    return X, y"
   ]
  },
  {
   "cell_type": "markdown",
   "metadata": {},
   "source": [
    "### Train & Test Split"
   ]
  },
  {
   "cell_type": "code",
   "execution_count": 10,
   "metadata": {},
   "outputs": [],
   "source": [
    "def split_t_t(X, y):\n",
    "    train_size = int(len(X) * 0.8)\n",
    "    X_train, X_test = X[:train_size], X[train_size:]\n",
    "    y_train, y_test = y[:train_size], y[train_size:]\n",
    "    return X_train, X_test, y_train, y_test"
   ]
  },
  {
   "cell_type": "markdown",
   "metadata": {},
   "source": [
    "### Prediction"
   ]
  },
  {
   "cell_type": "code",
   "execution_count": 11,
   "metadata": {},
   "outputs": [],
   "source": [
    "def get_pred(df, lags, h):\n",
    "\n",
    "    # Create lags\n",
    "    df = create_lags(df, lags)\n",
    "    \n",
    "    # Split the data into features and target\n",
    "    X, y = split_f_t(df, h)\n",
    "\n",
    "    # Split the data into training and testing sets\n",
    "    X_train, X_test, y_train, y_test = split_t_t(X, y)\n",
    "    print(\"Train Set starts:\", X_train.index[0])\n",
    "    print(\"Test Set starts:\", X_test.index[0])\n",
    "    print(\"Test Set ends:\", X_test.index[-1])\n",
    "    \n",
    "    # Fit the model\n",
    "    model = sm.OLS(y_train, X_train).fit()\n",
    "\n",
    "    # Make predictions\n",
    "    pred = model.predict(X_test)\n",
    "    pred = pd.DataFrame(pred, columns=['Pred'])\n",
    "    pred.index = X_test.index\n",
    "    \n",
    "    return pred, y_test"
   ]
  },
  {
   "cell_type": "markdown",
   "metadata": {},
   "source": [
    "### Plotting"
   ]
  },
  {
   "cell_type": "code",
   "execution_count": null,
   "metadata": {},
   "outputs": [],
   "source": [
    "def plot_pred(pred, actual, h, model):\n",
    "    plt.figure(figsize=(8, 3))\n",
    "    plt.plot(actual, label='Actual')\n",
    "    plt.plot(pred, label='Predicted')\n",
    "    plt.xticks(actual.index[::100])\n",
    "    plt.xlabel('Date')\n",
    "    plt.ylabel('Volatility')\n",
    "    plt.title(f'{model}{h}D-Ahead Forecast')\n",
    "    plt.legend()\n",
    "    plt.savefig(f'../res/{h}D/GARCH-SVM_Actual_vs_Predicted.png')"
   ]
  },
  {
   "cell_type": "code",
   "execution_count": 12,
   "metadata": {},
   "outputs": [
    {
     "name": "stdout",
     "output_type": "stream",
     "text": [
      "Train Set starts: 2019-07-14\n",
      "Test Set starts: 2024-01-13\n",
      "Test Set ends: 2025-02-27\n"
     ]
    },
    {
     "data": {
      "text/plain": [
       "<matplotlib.legend.Legend at 0x1b0b9dc2d60>"
      ]
     },
     "execution_count": 12,
     "metadata": {},
     "output_type": "execute_result"
    },
    {
     "data": {
      "image/png": "[encoded data removed]",
      "text/plain": [
       "<Figure size 1000x500 with 1 Axes>"
      ]
     },
     "metadata": {},
     "output_type": "display_data"
    }
   ],
   "source": [
    "y_pred, y_test = get_pred(df, [1, 5, 22], 1)\n",
    "\n",
    "# Plot the predicted values against the actual values\n",
    "plt.figure(figsize=(10, 5))\n",
    "plt.plot(y_test, label='Actual')\n",
    "plt.plot(y_pred, label='Predicted')\n",
    "plt.title(\"HAR(1,5,22) Actual vs Predicted\")\n",
    "plt.xlabel(\"Date\")\n",
    "plt.xticks(ticks=y_pred.index[::100])\n",
    "plt.legend()\n"
   ]
  },
  {
   "cell_type": "code",
   "execution_count": null,
   "metadata": {},
   "outputs": [],
   "source": []
  },
  {
   "cell_type": "markdown",
   "metadata": {},
   "source": [
    "### HAR(1,7,22)"
   ]
  },
  {
   "cell_type": "markdown",
   "metadata": {},
   "source": [
    "$$\n",
    "lnRV_t = \\alpha + \\beta_1 lnRV_{t-1} + \\beta_2 lnRV_{7D, t-1} + \\beta_3 lnRV_{30D, t-1} + \\epsilon_t\n",
    "$$\n",
    "Where:\n",
    "- $lnRV_t$ is the dependent variable (e.g., log realised volatility of return) at time \\( t \\).\n",
    "- $\\alpha$ is a constant term.\n",
    "- $\\beta_1, \\beta_2, \\beta_3$ are the coefficients for different time lags.\n",
    "- $lnRV_{7D, t-1}$ and $lnRV_{30D, t-1}$ are the 1-day lag of the average log realised volatility of return over the past 7 days and 30 days respectively.\n",
    "- $\\epsilon_t$ is the error term."
   ]
  },
  {
   "cell_type": "code",
   "execution_count": null,
   "metadata": {},
   "outputs": [],
   "source": [
    "# Define dependent (y) and independent variables (X)\n",
    "y_train = df_train['lnRV']\n",
    "X_train = df_train[['lnRV_lag1', 'lnRV_7D_lag1', 'lnRV_30D_lag1']]\n",
    "y_test = df_test['lnRV']\n",
    "X_test = df_test[['lnRV_lag1', 'lnRV_7D_lag1', 'lnRV_30D_lag1']]\n",
    "\n",
    "# Add a constant to the independent value\n",
    "X_train = sm.add_constant(X_train)\n",
    "\n",
    "# Fit the OLS regression\n",
    "model = sm.OLS(y_train, X_train).fit()\n",
    "\n",
    "# Print summary of results\n",
    "print(model.summary())"
   ]
  },
  {
   "cell_type": "code",
   "execution_count": null,
   "metadata": {},
   "outputs": [],
   "source": [
    "# Predict y values\n",
    "X_test = sm.add_constant(X_test)\n",
    "y_pred = model.predict(X_test)\n",
    "\n",
    "# Save the predicted values\n",
    "y_pred.to_csv('../res/1D/HAR(1,7,30).csv', index=False)"
   ]
  },
  {
   "cell_type": "code",
   "execution_count": null,
   "metadata": {},
   "outputs": [],
   "source": [
    "# Plot the predicted values against the actual values\n",
    "plt.figure(figsize=(10, 5))\n",
    "plt.plot(y_test, label='Actual')\n",
    "plt.plot(y_pred, label='Predicted')\n",
    "plt.title(\"HAR(1,7,30) Actual vs Predicted\")\n",
    "plt.xlabel(\"Date\")\n",
    "plt.xticks(ticks=date_ticks)\n",
    "plt.legend()\n",
    "\n",
    "# Save the plot\n",
    "plt.savefig('../res/1D/HAR(1,7,30)_Actual_vs_Predicted.png')"
   ]
  },
  {
   "cell_type": "markdown",
   "metadata": {},
   "source": [
    "## 3-day ahead forecasting"
   ]
  },
  {
   "cell_type": "markdown",
   "metadata": {},
   "source": [
    "### HAR(1,5,22)"
   ]
  },
  {
   "cell_type": "code",
   "execution_count": null,
   "metadata": {},
   "outputs": [],
   "source": [
    "# Define dependent (y) and independent variables (X)\n",
    "y_train = df_train['lnRV']\n",
    "X_train = df_train[['lnRV_lag3', 'lnRV_5D_lag3', 'lnRV_22D_lag3']]\n",
    "X_test = df_test[['lnRV_lag3', 'lnRV_5D_lag3', 'lnRV_22D_lag3']]\n",
    "\n",
    "# Add a constant to the independent value\n",
    "X_train = sm.add_constant(X_train)\n",
    "\n",
    "# Fit the OLS regression\n",
    "model = sm.OLS(y_train, X_train).fit()\n",
    "\n",
    "# Print summary of results\n",
    "print(model.summary())"
   ]
  },
  {
   "cell_type": "code",
   "execution_count": null,
   "metadata": {},
   "outputs": [],
   "source": [
    "# Predict y values\n",
    "X_test = sm.add_constant(X_test)\n",
    "y_pred = model.predict(X_test)\n",
    "\n",
    "# Save the predicted values\n",
    "y_pred.to_csv('../res/3D/HAR(1,5,22).csv', index=False)\n",
    "\n",
    "# Plot the predicted values against the actual values\n",
    "plt.figure(figsize=(10, 5))\n",
    "plt.plot(y_test, label='Actual')\n",
    "plt.plot(y_pred, label='Predicted')\n",
    "plt.title(\"HAR(1,5,22) Actual vs Predicted\")\n",
    "plt.xlabel(\"Date\")\n",
    "plt.xticks(ticks=date_ticks)\n",
    "plt.legend()\n",
    "\n",
    "# Save the plot\n",
    "plt.savefig('../res/3D/HAR(1,5,22)_3D_Actual_vs_Predicted.png')"
   ]
  },
  {
   "cell_type": "markdown",
   "metadata": {},
   "source": [
    "### HAR(1,7,22)"
   ]
  },
  {
   "cell_type": "code",
   "execution_count": null,
   "metadata": {},
   "outputs": [],
   "source": [
    "# Define dependent (y) and independent variables (X)\n",
    "y_train = df_train['lnRV']\n",
    "X_train = df_train[['lnRV_lag3', 'lnRV_7D_lag3', 'lnRV_30D_lag3']]\n",
    "X_test = df_test[['lnRV_lag3', 'lnRV_7D_lag3', 'lnRV_30D_lag3']]\n",
    "\n",
    "# Add a constant to the independent value\n",
    "X_train = sm.add_constant(X_train)\n",
    "\n",
    "# Fit the OLS regression\n",
    "model = sm.OLS(y_train, X_train).fit()\n",
    "\n",
    "# Print summary of results\n",
    "print(model.summary())"
   ]
  },
  {
   "cell_type": "code",
   "execution_count": null,
   "metadata": {},
   "outputs": [],
   "source": [
    "# Predict y values\n",
    "X_test = sm.add_constant(X_test)\n",
    "y_pred = model.predict(X_test)\n",
    "\n",
    "# Save the predicted values\n",
    "y_pred.to_csv('../res/3D/HAR(1,7,30).csv', index=False)\n",
    "\n",
    "# Plot the predicted values against the actual values\n",
    "plt.figure(figsize=(10, 5))\n",
    "plt.plot(y_test, label='Actual')\n",
    "plt.plot(y_pred, label='Predicted')\n",
    "plt.title(\"HAR(1,7,30) Actual vs Predicted\")\n",
    "plt.xlabel(\"Date\")\n",
    "plt.xticks(ticks=date_ticks)\n",
    "plt.legend()\n",
    "\n",
    "# Save the plot\n",
    "plt.savefig('../res/3D/HAR(1,7,30)_3D_Actual_vs_Predicted.png')"
   ]
  }
 ],
 "metadata": {
  "kernelspec": {
   "display_name": "Python 3",
   "language": "python",
   "name": "python3"
  },
  "language_info": {
   "codemirror_mode": {
    "name": "ipython",
    "version": 3
   },
   "file_extension": ".py",
   "mimetype": "text/x-python",
   "name": "python",
   "nbconvert_exporter": "python",
   "pygments_lexer": "ipython3",
   "version": "3.9.6"
  }
 },
 "nbformat": 4,
 "nbformat_minor": 2
}
