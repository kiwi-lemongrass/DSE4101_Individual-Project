{
 "cells": [
  {
   "cell_type": "code",
   "execution_count": 2,
   "metadata": {},
   "outputs": [],
   "source": [
    "import pandas as pd\n",
    "import numpy as np\n",
    "import matplotlib.pyplot as plt\n",
    "import func as f\n",
    "from arch import arch_model\n",
    "from statsmodels.graphics.tsaplots import plot_acf, plot_pacf\n",
    "from sklearn.metrics import mean_squared_error, mean_absolute_percentage_error, r2_score"
   ]
  },
  {
   "cell_type": "code",
   "execution_count": 3,
   "metadata": {},
   "outputs": [
    {
     "data": {
      "text/html": [
       "<div>\n",
       "<style scoped>\n",
       "    .dataframe tbody tr th:only-of-type {\n",
       "        vertical-align: middle;\n",
       "    }\n",
       "\n",
       "    .dataframe tbody tr th {\n",
       "        vertical-align: top;\n",
       "    }\n",
       "\n",
       "    .dataframe thead th {\n",
       "        text-align: right;\n",
       "    }\n",
       "</style>\n",
       "<table border=\"1\" class=\"dataframe\">\n",
       "  <thead>\n",
       "    <tr style=\"text-align: right;\">\n",
       "      <th></th>\n",
       "      <th>open</th>\n",
       "      <th>high</th>\n",
       "      <th>low</th>\n",
       "      <th>close</th>\n",
       "      <th>return</th>\n",
       "      <th>RV</th>\n",
       "      <th>lnRV</th>\n",
       "      <th>lnRV_lag7</th>\n",
       "      <th>lnRV_lag30</th>\n",
       "      <th>lnRV_lag60</th>\n",
       "    </tr>\n",
       "    <tr>\n",
       "      <th>Unnamed: 0</th>\n",
       "      <th></th>\n",
       "      <th></th>\n",
       "      <th></th>\n",
       "      <th></th>\n",
       "      <th></th>\n",
       "      <th></th>\n",
       "      <th></th>\n",
       "      <th></th>\n",
       "      <th></th>\n",
       "      <th></th>\n",
       "    </tr>\n",
       "  </thead>\n",
       "  <tbody>\n",
       "    <tr>\n",
       "      <th>2019-08-21</th>\n",
       "      <td>0.626</td>\n",
       "      <td>0.627</td>\n",
       "      <td>0.559</td>\n",
       "      <td>0.567</td>\n",
       "      <td>-0.097392</td>\n",
       "      <td>0.005644</td>\n",
       "      <td>-5.177089</td>\n",
       "      <td>-5.125362</td>\n",
       "      <td>-4.843289</td>\n",
       "      <td>-4.657663</td>\n",
       "    </tr>\n",
       "    <tr>\n",
       "      <th>2019-08-22</th>\n",
       "      <td>0.567</td>\n",
       "      <td>0.592</td>\n",
       "      <td>0.531</td>\n",
       "      <td>0.572</td>\n",
       "      <td>0.008780</td>\n",
       "      <td>0.006631</td>\n",
       "      <td>-5.015983</td>\n",
       "      <td>-5.236702</td>\n",
       "      <td>-4.848536</td>\n",
       "      <td>-4.693188</td>\n",
       "    </tr>\n",
       "    <tr>\n",
       "      <th>2019-08-23</th>\n",
       "      <td>0.573</td>\n",
       "      <td>0.589</td>\n",
       "      <td>0.546</td>\n",
       "      <td>0.576</td>\n",
       "      <td>0.006969</td>\n",
       "      <td>0.005480</td>\n",
       "      <td>-5.206578</td>\n",
       "      <td>-5.275639</td>\n",
       "      <td>-4.864684</td>\n",
       "      <td>-4.712370</td>\n",
       "    </tr>\n",
       "    <tr>\n",
       "      <th>2019-08-24</th>\n",
       "      <td>0.574</td>\n",
       "      <td>0.580</td>\n",
       "      <td>0.542</td>\n",
       "      <td>0.577</td>\n",
       "      <td>0.001735</td>\n",
       "      <td>0.003904</td>\n",
       "      <td>-5.545689</td>\n",
       "      <td>-5.270696</td>\n",
       "      <td>-4.877783</td>\n",
       "      <td>-4.738272</td>\n",
       "    </tr>\n",
       "    <tr>\n",
       "      <th>2019-08-25</th>\n",
       "      <td>0.578</td>\n",
       "      <td>0.582</td>\n",
       "      <td>0.530</td>\n",
       "      <td>0.538</td>\n",
       "      <td>-0.069984</td>\n",
       "      <td>0.004892</td>\n",
       "      <td>-5.320139</td>\n",
       "      <td>-5.283678</td>\n",
       "      <td>-4.884539</td>\n",
       "      <td>-4.778002</td>\n",
       "    </tr>\n",
       "  </tbody>\n",
       "</table>\n",
       "</div>"
      ],
      "text/plain": [
       "             open   high    low  close    return        RV      lnRV  \\\n",
       "Unnamed: 0                                                             \n",
       "2019-08-21  0.626  0.627  0.559  0.567 -0.097392  0.005644 -5.177089   \n",
       "2019-08-22  0.567  0.592  0.531  0.572  0.008780  0.006631 -5.015983   \n",
       "2019-08-23  0.573  0.589  0.546  0.576  0.006969  0.005480 -5.206578   \n",
       "2019-08-24  0.574  0.580  0.542  0.577  0.001735  0.003904 -5.545689   \n",
       "2019-08-25  0.578  0.582  0.530  0.538 -0.069984  0.004892 -5.320139   \n",
       "\n",
       "            lnRV_lag7  lnRV_lag30  lnRV_lag60  \n",
       "Unnamed: 0                                     \n",
       "2019-08-21  -5.125362   -4.843289   -4.657663  \n",
       "2019-08-22  -5.236702   -4.848536   -4.693188  \n",
       "2019-08-23  -5.275639   -4.864684   -4.712370  \n",
       "2019-08-24  -5.270696   -4.877783   -4.738272  \n",
       "2019-08-25  -5.283678   -4.884539   -4.778002  "
      ]
     },
     "execution_count": 3,
     "metadata": {},
     "output_type": "execute_result"
    }
   ],
   "source": [
    "# The dataset contains 2019 observations and 9 columns.\n",
    "file_path = \"..\\data\\ALGO_daily.csv\"\n",
    "df = pd.read_csv(file_path)\n",
    "df.set_index(df.columns[0], inplace=True)\n",
    "df.head()"
   ]
  },
  {
   "cell_type": "code",
   "execution_count": 4,
   "metadata": {},
   "outputs": [
    {
     "name": "stdout",
     "output_type": "stream",
     "text": [
      "Training Set: (1615,) (1615,)\n",
      "Test Set: (404,) (404,)\n",
      "2019-08-21 2024-01-22\n"
     ]
    }
   ],
   "source": [
    "# Train-Test Split (80% train, 20% test)\n",
    "train_size = int(0.8 * len(df))\n",
    "test_size = len(df) - train_size\n",
    "r_train, r_test = df['return'][:train_size], df['return'][train_size:]\n",
    "RV_train, RV_test = df['RV'][:train_size], df['RV'][train_size:]\n",
    "\n",
    "print(\"Training Set:\", r_train.shape, RV_train.shape)\n",
    "print(\"Test Set:\", r_test.shape, RV_test.shape)\n",
    "print(r_train.index[0], r_test.index[0])"
   ]
  },
  {
   "cell_type": "markdown",
   "metadata": {},
   "source": [
    "### Box-Jenkins"
   ]
  },
  {
   "cell_type": "code",
   "execution_count": 6,
   "metadata": {},
   "outputs": [
    {
     "data": {
      "image/png": "[encoded data removed]",
      "text/plain": [
       "<Figure size 1400x300 with 2 Axes>"
      ]
     },
     "metadata": {},
     "output_type": "display_data"
    }
   ],
   "source": [
    "# ACF and PACF plots of returns\n",
    "fig, ax = plt.subplots(1, 2, figsize=(14, 3))\n",
    "plot_acf(r_train, title='Daily Returns Autocorrelation\\n(Training Set)', ax=ax[0])\n",
    "plot_pacf(r_train, title='Daily Returns Partial Autocorrelation\\n(Training Set)', ax=ax[1])\n",
    "plt.show()"
   ]
  },
  {
   "cell_type": "markdown",
   "metadata": {},
   "source": [
    "### ARCH Framework"
   ]
  },
  {
   "cell_type": "markdown",
   "metadata": {},
   "source": [
    "$$ r_t = \\mu + \\epsilon_t， \\epsilon_t = z_t \\sigma_t \\\\\n",
    "\\sigma_t^2 = \\omega + \\sum^p_{i=1}\\alpha_i \\epsilon_{t-1}^2 $$\n",
    "\n",
    "where $r_t$ is the return series with its mean $\\mu$, $\\epsilon_t$ the error term and $\\sigma_t^2$ the conditional variance. \n",
    "\n",
    "$z_t$ is assumed to be an I.I.D. process with $z_t \\sim \\mathcal{N}(0,1)$. \n",
    "\n",
    "To impose that the conditional variance is always nonnegative the parametric constraints are $\\omega > 0$ and $\\alpha_i \\geq 0$. \n",
    "\n",
    "The ARCH model is a symmetric model, which implies that a positive shock has the same influence on the conditional variance as a negative shock of the same size.\n",
    "\n"
   ]
  },
  {
   "cell_type": "markdown",
   "metadata": {},
   "source": [
    "### GARCH\n",
    "\n",
    "An extended form of the ARCH(p) model is the generalized autoregressive conditional het\n",
    "eroskedasticity (GARCH(p,q)) model by Bollerslev (1986)."
   ]
  },
  {
   "cell_type": "markdown",
   "metadata": {},
   "source": [
    "$$ r_t = \\mu + \\epsilon_t， \\epsilon_t = z_t \\sigma_t \\\\\n",
    "\\sigma_t^2 = \\omega + \\sum^q_{i=1}\\alpha_i \\epsilon_{t-i}^2 + \\sum^p_{j=1}\\beta_j \\sigma_{t-j}^2$$\n",
    "\n",
    "The parametric restrictions for the GARCH model are: $\\omega > 0$ and $\\alpha_i \\geq 0 $ $ \\forall i$, $\\beta_j \\geq 0 $ $ \\forall j$, to guarantee that $\\sigma_t^2$ is always positive and $\\alpha_i + \\beta_j < 1 $ $ \\forall i, j$ to guarantee a covariance stationary process. \n",
    "\n",
    "The GARCH model has a symmetric form similar to the ARCH model and therefore does\n",
    "not allow for different responses to positive or negative shocks, which is considered as a\n",
    "downside of the GARCH model."
   ]
  },
  {
   "cell_type": "code",
   "execution_count": 28,
   "metadata": {},
   "outputs": [
    {
     "name": "stdout",
     "output_type": "stream",
     "text": [
      "                     Constant Mean - GARCH Model Results                      \n",
      "==============================================================================\n",
      "Dep. Variable:                  close   R-squared:                       0.000\n",
      "Mean Model:             Constant Mean   Adj. R-squared:                  0.000\n",
      "Vol Model:                      GARCH   Log-Likelihood:                663.871\n",
      "Distribution:                  Normal   AIC:                          -1319.74\n",
      "Method:            Maximum Likelihood   BIC:                          -1298.19\n",
      "                                        No. Observations:                 1615\n",
      "Date:                Fri, Mar 07 2025   Df Residuals:                     1614\n",
      "Time:                        16:33:17   Df Model:                            1\n",
      "                               Mean Model                               \n",
      "========================================================================\n",
      "                 coef    std err          t      P>|t|  95.0% Conf. Int.\n",
      "------------------------------------------------------------------------\n",
      "mu             0.2461  3.990e-03     61.676      0.000 [  0.238,  0.254]\n",
      "                              Volatility Model                              \n",
      "============================================================================\n",
      "                 coef    std err          t      P>|t|      95.0% Conf. Int.\n",
      "----------------------------------------------------------------------------\n",
      "omega      2.1293e-03  8.475e-05     25.125 2.625e-139 [1.963e-03,2.295e-03]\n",
      "alpha[1]       0.6304  5.123e-02     12.306  8.449e-35     [  0.530,  0.731]\n",
      "beta[1]        0.4289  2.868e-02     14.955  1.455e-50     [  0.373,  0.485]\n",
      "============================================================================\n",
      "\n",
      "Covariance estimator: robust\n",
      "WARNING: The optimizer did not indicate successful convergence. The message was Positive directional derivative for linesearch.\n",
      "See convergence_flag.\n",
      "\n"
     ]
    },
    {
     "name": "stderr",
     "output_type": "stream",
     "text": [
      "c:\\Users\\65835\\AppData\\Local\\Programs\\Python\\Python39\\lib\\site-packages\\arch\\univariate\\base.py:768: ConvergenceWarning: The optimizer returned code 8. The message is:\n",
      "Positive directional derivative for linesearch\n",
      "See scipy.optimize.fmin_slsqp for code meaning.\n",
      "\n",
      "  warnings.warn(\n"
     ]
    }
   ],
   "source": [
    "garch_1_1 = arch_model(r_train, vol='Garch', p=1, q=1, rescale=False)\n",
    "garch_1_1_fit = garch_1_1.fit(disp=\"off\")\n",
    "print(garch_1_1_fit.summary())"
   ]
  }
 ],
 "metadata": {
  "kernelspec": {
   "display_name": "Python 3",
   "language": "python",
   "name": "python3"
  },
  "language_info": {
   "codemirror_mode": {
    "name": "ipython",
    "version": 3
   },
   "file_extension": ".py",
   "mimetype": "text/x-python",
   "name": "python",
   "nbconvert_exporter": "python",
   "pygments_lexer": "ipython3",
   "version": "3.9.6"
  }
 },
 "nbformat": 4,
 "nbformat_minor": 2
}
