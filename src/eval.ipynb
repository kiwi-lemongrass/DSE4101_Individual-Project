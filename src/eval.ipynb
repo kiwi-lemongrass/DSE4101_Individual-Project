{
 "cells": [
  {
   "cell_type": "markdown",
   "metadata": {},
   "source": [
    "# Comparison of Model Performance"
   ]
  },
  {
   "cell_type": "markdown",
   "metadata": {},
   "source": [
    "All models are compared based on their forecast performannce on the period from 2024-01-23 to 2025-02-28. (including two ends)."
   ]
  },
  {
   "cell_type": "code",
   "execution_count": 3,
   "metadata": {},
   "outputs": [],
   "source": [
    "import numpy as np\n",
    "import pandas as pd\n",
    "import matplotlib.pyplot as plt\n",
    "import seaborn as sns\n",
    "from scipy.stats import t\n",
    "from scipy.stats import norm\n",
    "from sklearn.metrics import mean_squared_error, mean_absolute_error, mean_absolute_percentage_error, r2_score"
   ]
  },
  {
   "cell_type": "markdown",
   "metadata": {},
   "source": [
    "- Forecast Error Metrics (MAE, RMSE, MASE)\n",
    "\n",
    "- Diebold-Mariano Test (for forecast superiority)\n",
    "\n",
    "- Visual Comparison (actual vs. predicted volatility)"
   ]
  },
  {
   "cell_type": "markdown",
   "metadata": {},
   "source": [
    "One of the considerations was choosing a recursive estimation scheme over a rolling scheme in forecast estimation. While the latter is better suited for purposes like forecast comparison using DM test (which assumes that the differential is covariance stationary), the recursive estimation scheme is still favoured for practical reasons. This is because by expanding the training set timeframe, it uses more and more data to make later forecasts - parameter uncertainty is reduced, and forecast error may become less variable. Also, parameter estimation uncertainty typically constitutes a tiny fraction of forecast error variance, so reducing it would not noticeably violate stationarity. "
   ]
  },
  {
   "cell_type": "code",
   "execution_count": 13,
   "metadata": {},
   "outputs": [],
   "source": [
    "# Diebold Mariano (1995) EPA Test\n",
    "def diebold_mariano(actual, forecast1, forecast2, h=3):\n",
    "    \"\"\"\n",
    "    DM test for h-step-ahead forecasts.\n",
    "    H0: Forecasts have equal accuracy.\n",
    "    HA: Forecast 1 is more accurate than Forecast 2.\n",
    "    \"\"\"\n",
    "    # Forecast errors\n",
    "    e1 = actual - forecast1\n",
    "    e2 = actual - forecast2\n",
    "    \n",
    "    # Loss differential (squared errors)\n",
    "    d = e1**2 - e2**2\n",
    "    \n",
    "    # DM statistic (with Newey-West adjustment for autocorrelation)\n",
    "    n = len(d)\n",
    "    d_mean = np.mean(d)\n",
    "    d_var = np.var(d, ddof=1)  # HAC adjustment not shown here (see next section)\n",
    "    dm_stat = d_mean / np.sqrt(d_var / n)\n",
    "    \n",
    "    # Critical value (standard normal for large n)\n",
    "    p_value = 2 * norm.sf(np.abs(dm_stat))  # Two-tailed test\n",
    "    \n",
    "    return dm_stat, p_value"
   ]
  },
  {
   "cell_type": "markdown",
   "metadata": {},
   "source": [
    "## 1D-Ahead Forecasts"
   ]
  },
  {
   "cell_type": "code",
   "execution_count": null,
   "metadata": {},
   "outputs": [],
   "source": [
    "for h in [1,3,7,30]:\n",
    "    # load data\n",
    "    garch = pd.read_csv(f'../res/GARCH(1,0,1)_{h}D.csv')['Predicted']\n",
    "    har = pd.read_csv(f'../res/HAR(1, 7, 30)_{h}D.csv')['Pred']\n",
    "    garch_svm = pd.read_csv(f'../res/GARCH-SVM_{h}D.csv')['Predicted']\n",
    "    actual = pd.read_csv(f'../res/lnRV_test_{h}D.csv')\n",
    "\n",
    "    # Mean Absolute Error (MASE)\n",
    "    mae_garch = mean_absolute_error(actual, garch)\n",
    "    mae_har = mean_absolute_error(actual, har)\n",
    "    mae_garch_svm = mean_absolute_error(actual, garch_svm)\n",
    "\n",
    "    # Mean Absolute Error (MASE)\n",
    "    mae_garch = mean_absolute_error(actual, garch)\n",
    "    mae_har = mean_absolute_error(actual, har)\n",
    "    mae_garch_svm = mean_absolute_error(actual, garch_svm)\n",
    "\n",
    "    # Root Mean Squared Error (RMSE)\n",
    "    rmse_garch = np.sqrt(mean_squared_error(actual, garch))\n",
    "    rmse_har = np.sqrt(mean_squared_error(actual, har))\n",
    "    rmse_garch_svm = np.sqrt(mean_squared_error(actual, garch_svm))\n",
    "\n",
    "    # Mean Absolute Percentage Error (MAPE)\n",
    "    mape_garch = mean_absolute_percentage_error(actual, garch) * 100\n",
    "    mape_har = mean_absolute_percentage_error(actual, har) * 100\n",
    "    mape_garch_svm = mean_absolute_percentage_error(actual, garch_svm) * 100\n",
    "\n",
    "    # Mean Absolute Scaled Error (MASE) - Lagged realized vol as benchmark\n",
    "    naive_forecast = np.roll(actual, h)\n",
    "    \n"
   ]
  }
 ],
 "metadata": {
  "kernelspec": {
   "display_name": "Python 3",
   "language": "python",
   "name": "python3"
  },
  "language_info": {
   "codemirror_mode": {
    "name": "ipython",
    "version": 3
   },
   "file_extension": ".py",
   "mimetype": "text/x-python",
   "name": "python",
   "nbconvert_exporter": "python",
   "pygments_lexer": "ipython3",
   "version": "3.9.6"
  }
 },
 "nbformat": 4,
 "nbformat_minor": 2
}
