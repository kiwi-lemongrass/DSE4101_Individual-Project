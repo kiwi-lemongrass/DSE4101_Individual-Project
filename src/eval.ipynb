{
 "cells": [
  {
   "cell_type": "markdown",
   "metadata": {},
   "source": [
    "# Comparison of Model Performance"
   ]
  },
  {
   "cell_type": "markdown",
   "metadata": {},
   "source": [
    "All models are compared based on their forecast performannce on the period from 2024-01-23 to 2025-02-28. (including two ends)."
   ]
  },
  {
   "cell_type": "code",
   "execution_count": null,
   "metadata": {},
   "outputs": [],
   "source": [
    "import numpy as np\n",
    "import pandas as pd\n",
    "import matplotlib.pyplot as plt\n",
    "import seaborn as sns\n",
    "from sklearn.metrics import mean_squared_error, mean_absolute_percentage_error, r2_score"
   ]
  },
  {
   "cell_type": "code",
   "execution_count": null,
   "metadata": {},
   "outputs": [],
   "source": [
    "GARCH_1_1 = pd.read_csv('../res/1D/GARCH(1,0,1)_1D.csv')\n",
    "GARCH_SVM = pd.read_csv('../res/1D/GARCH-SVM_1D.csv')"
   ]
  },
  {
   "cell_type": "markdown",
   "metadata": {},
   "source": [
    "## 1D-Ahead Forecasts"
   ]
  },
  {
   "cell_type": "code",
   "execution_count": null,
   "metadata": {},
   "outputs": [],
   "source": [
    "# Set style\n",
    "sns.set_theme(style=\"whitegrid\")\n",
    "plt.figure(figsize=(12, 16))  # Adjust figure size for clarity\n",
    "\n",
    "\n",
    "# Create 4x2 subplots\n",
    "fig, axes = plt.subplots(4, 2, figsize=(12, 16))\n",
    "fig.suptitle(\"4x2 Panel of Charts\", fontsize=16, y=1.02)\n",
    "\n",
    "# Plot each subplot\n",
    "axes = axes.flatten()  # Flatten to 1D array for easy iteration\n",
    "for i, (title, y) in enumerate(data.items()):\n",
    "    ax = axes[i]\n",
    "    if i in [0, 1, 2, 3, 5]:  # Line/Scatter plots\n",
    "        ax.scatter(x, y, alpha=0.6, label=title)\n",
    "        ax.plot(x, y, color=\"red\", alpha=0.4, lw=1)\n",
    "    elif i == 4:  # Histogram\n",
    "        sns.histplot(y, kde=True, ax=ax, color=\"skyblue\")\n",
    "    elif i == 6:  # Bar plot (discrete Poisson)\n",
    "        sns.countplot(x=y, ax=ax, palette=\"viridis\")\n",
    "    elif i == 7:  # Density plot (Gamma)\n",
    "        sns.kdeplot(y, ax=ax, fill=True, color=\"orange\")\n",
    "    ax.set_title(title)\n",
    "    ax.set_xlabel(\"X-axis\" if i not in [4, 6, 7] else \"Value\")\n",
    "\n",
    "plt.tight_layout()\n",
    "plt.show()"
   ]
  },
  {
   "cell_type": "code",
   "execution_count": null,
   "metadata": {},
   "outputs": [],
   "source": []
  }
 ],
 "metadata": {
  "kernelspec": {
   "display_name": "Python 3",
   "language": "python",
   "name": "python3"
  },
  "language_info": {
   "name": "python",
   "version": "3.9.6"
  }
 },
 "nbformat": 4,
 "nbformat_minor": 2
}
