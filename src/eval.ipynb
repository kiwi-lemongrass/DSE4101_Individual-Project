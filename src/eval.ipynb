{
 "cells": [
  {
   "cell_type": "markdown",
   "metadata": {},
   "source": [
    "# Comparison of Model Performance"
   ]
  },
  {
   "cell_type": "markdown",
   "metadata": {},
   "source": [
    "All models are compared based on their forecast performannce on the period from 2024-01-23 to 2025-02-28. (including two ends)."
   ]
  },
  {
   "cell_type": "code",
   "execution_count": null,
   "metadata": {},
   "outputs": [],
   "source": [
    "import numpy as np\n",
    "import pandas as pd\n",
    "import matplotlib.pyplot as plt\n",
    "import seaborn as sns\n",
    "from scipy.stats import t\n",
    "from scipy.stats import norm\n",
    "from sklearn.metrics import mean_squared_error, mean_absolute_error, mean_absolute_percentage_error, r2_score"
   ]
  },
  {
   "cell_type": "markdown",
   "metadata": {},
   "source": [
    "- Forecast Error Metrics (MAE, RMSE, MASE)\n",
    "\n",
    "- Diebold-Mariano Test (for forecast superiority)\n",
    "\n",
    "- Visual Comparison (actual vs. predicted volatility)"
   ]
  },
  {
   "cell_type": "code",
   "execution_count": null,
   "metadata": {},
   "outputs": [],
   "source": [
    "def diebold_mariano_3step(actual, forecast1, forecast2, h=3):\n",
    "    \"\"\"\n",
    "    DM test for h-step-ahead forecasts.\n",
    "    H0: Forecasts have equal accuracy.\n",
    "    HA: Forecast 1 is more accurate than Forecast 2.\n",
    "    \"\"\"\n",
    "    # Forecast errors\n",
    "    e1 = actual - forecast1\n",
    "    e2 = actual - forecast2\n",
    "    \n",
    "    # Loss differential (squared errors)\n",
    "    d = e1**2 - e2**2\n",
    "    \n",
    "    # DM statistic (with Newey-West adjustment for autocorrelation)\n",
    "    n = len(d)\n",
    "    d_mean = np.mean(d)\n",
    "    d_var = np.var(d, ddof=1)  # HAC adjustment not shown here (see next section)\n",
    "    dm_stat = d_mean / np.sqrt(d_var / n)\n",
    "    \n",
    "    # Critical value (standard normal for large n)\n",
    "    p_value = 2 * norm.sf(np.abs(dm_stat))  # Two-tailed test\n",
    "    \n",
    "    return dm_stat, p_value"
   ]
  },
  {
   "cell_type": "markdown",
   "metadata": {},
   "source": [
    "## 1D-Ahead Forecasts"
   ]
  },
  {
   "cell_type": "code",
   "execution_count": null,
   "metadata": {},
   "outputs": [],
   "source": [
    "# load forecasts\n",
    "garch = pd.read_csv('../res/GARCH(1,0,1)_1D.csv')\n",
    "har = pd.read_csv('../res/HAR(1, 7, 30)_1D.csv')\n",
    "garch_svm = pd.read_csv('../res/GARCH-SVM_1D.csv')\n"
   ]
  },
  {
   "cell_type": "code",
   "execution_count": null,
   "metadata": {},
   "outputs": [],
   "source": [
    "mae_garch = mean_absolute_error(realized_vol, garch_forecast)\n",
    "mae_hist = mean_absolute_error(realized_vol, hist_vol_forecast)\n",
    "print(f\"MAE (GARCH): {mae_garch:.5f}\")\n",
    "print(f\"MAE (Historical): {mae_hist:.5f}\")\n",
    "\n",
    "# Root Mean Squared Error (RMSE)\n",
    "rmse_garch = np.sqrt(mean_squared_error(realized_vol, garch_forecast))\n",
    "rmse_hist = np.sqrt(mean_squared_error(realized_vol, hist_vol_forecast))\n",
    "print(f\"RMSE (GARCH): {rmse_garch:.5f}\")\n",
    "print(f\"RMSE (Historical): {rmse_hist:.5f}\")\n",
    "\n",
    "# Mean Absolute Scaled Error (MASE) - Requires benchmark (e.g., naive forecast)\n",
    "naive_forecast = np.roll(realized_vol, 1)  # Lagged realized vol as benchmark\n",
    "mae_naive = mean_absolute_error(realized_vol[1:], naive_forecast[1:])\n",
    "mase_garch = mae_garch / mae_naive\n",
    "mase_hist = mae_hist / mae_naive\n",
    "print(f\"MASE (GARCH): {mase_garch:.5f}\")\n",
    "print(f\"MASE (Historical): {mase_hist:.5f}\")"
   ]
  }
 ],
 "metadata": {
  "kernelspec": {
   "display_name": "Python 3",
   "language": "python",
   "name": "python3"
  },
  "language_info": {
   "codemirror_mode": {
    "name": "ipython",
    "version": 3
   },
   "file_extension": ".py",
   "mimetype": "text/x-python",
   "name": "python",
   "nbconvert_exporter": "python",
   "pygments_lexer": "ipython3",
   "version": "3.9.6"
  }
 },
 "nbformat": 4,
 "nbformat_minor": 2
}
